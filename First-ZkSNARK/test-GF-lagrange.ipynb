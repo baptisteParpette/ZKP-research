{
 "cells": [
  {
   "cell_type": "code",
   "execution_count": 43,
   "metadata": {},
   "outputs": [
    {
     "name": "stdout",
     "output_type": "stream",
     "text": [
      "w = [ 1 33  2  3  4  9 40  2]\n",
      "Lw = [2 3 4 9 9]\n",
      "Rw = [ 2  3 10 16 26]\n",
      "Lw * Rw = [ 4  9 40  2 21]\n",
      "Ow =      [ 4  9 40  2 21]\n"
     ]
    }
   ],
   "source": [
    "import galois\n",
    "import numpy as np\n",
    "\n",
    "p = 71 # Pour tester car sinon c'est long et iliisible\n",
    "# p = 21888242871839275222246405745257275088548364400416034343698204186575808495617\n",
    "FP = galois.GF(p)\n",
    "\n",
    "# input arguments\n",
    "x = FP(2)\n",
    "y = FP(3)\n",
    "\n",
    "v1 = x * x\n",
    "v2 = y * y\n",
    "v3 = 5 * x * v1\n",
    "v4 = 4 * v1 * v2\n",
    "out = 5*x**3 - 4*x**2*y**2 + 13*x*y**2 + x**2 - 10*y\n",
    "\n",
    "w = FP([1, out, x, y, v1, v2, v3, v4])\n",
    "\n",
    "print(\"w =\", w)\n",
    "\n",
    "R = FP([[0, 0, 1, 0, 0, 0, 0, 0],\n",
    "         [0, 0, 0, 1, 0, 0, 0, 0],\n",
    "         [0, 0, 5, 0, 0, 0, 0, 0],\n",
    "         [0, 0, 0, 0, 4, 0, 0, 0],\n",
    "         [0, 0, 13, 0, 0, 0, 0, 0]])\n",
    "\n",
    "L = FP([[0, 0, 1, 0, 0, 0, 0, 0],\n",
    "         [0, 0, 0, 1, 0, 0, 0, 0],\n",
    "         [0, 0, 0, 0, 1, 0, 0, 0],\n",
    "         [0, 0, 0, 0, 0, 1, 0, 0],\n",
    "         [0, 0, 0, 0, 0, 1, 0, 0]])\n",
    "\n",
    "O = FP([[0, 0, 0, 0, 1, 0, 0, 0],\n",
    "         [0, 0, 0, 0, 0, 1, 0, 0],\n",
    "         [0, 0, 0, 0, 0, 0, 1, 0],\n",
    "         [0, 0, 0, 0, 0, 0, 0, 1],\n",
    "         [0, 1, 0, 10, FP(p - 1), 0, FP(p - 1), 1]])\n",
    "\n",
    "Lw = np.dot(L, w)\n",
    "Rw = np.dot(R, w)\n",
    "Ow = np.dot(O, w)\n",
    "\n",
    "print(\"Lw =\", Lw)\n",
    "print(\"Rw =\", Rw)\n",
    "\n",
    "LwRw = np.multiply(Lw, Rw)\n",
    "\n",
    "print(\"Lw * Rw =\", LwRw)\n",
    "\n",
    "print(\"Ow =     \", Ow)\n",
    "\n",
    "assert np.all(LwRw == Ow)"
   ]
  },
  {
   "cell_type": "code",
   "execution_count": 44,
   "metadata": {},
   "outputs": [
    {
     "name": "stdout",
     "output_type": "stream",
     "text": [
      "Lp\n",
      "[[ 0  0  0  0  0]\n",
      " [ 0  0  0  0  0]\n",
      " [ 5 35  0 29  3]\n",
      " [61  6  2 14 59]\n",
      " [10 16 30 68 18]\n",
      " [67 14 39 31 62]\n",
      " [ 0  0  0  0  0]\n",
      " [ 0  0  0  0  0]]\n",
      "\n",
      "Rp\n",
      "[[ 0  0  0  0  0]\n",
      " [ 0  0  0  0  0]\n",
      " [68 11 24 50 61]\n",
      " [61  6  2 14 59]\n",
      " [51 17 20 31 23]\n",
      " [ 0  0  0  0  0]\n",
      " [ 0  0  0  0  0]\n",
      " [ 0  0  0  0  0]]\n",
      "\n",
      "Op\n",
      "[[ 0  0  0  0  0]\n",
      " [ 1 63 34 41  3]\n",
      " [ 0  0  0  0  0]\n",
      " [10 62 56 55 30]\n",
      " [ 4 43 37 59  0]\n",
      " [61  6  2 14 59]\n",
      " [ 9 24 67 27 15]\n",
      " [67 14 39 31 62]]\n",
      "\n"
     ]
    }
   ],
   "source": [
    "mtxs = [L, R, O]\n",
    "poly_m = []\n",
    "\n",
    "for m in mtxs:\n",
    "    poly_list = []\n",
    "    for i in range(0, m.shape[1]):\n",
    "        points_x = FP(np.zeros(m.shape[0], dtype=int))\n",
    "        points_y = FP(np.zeros(m.shape[0], dtype=int))\n",
    "        for j in range(0, m.shape[0]):\n",
    "            points_x[j] = FP(j+1)\n",
    "            points_y[j] = m[j][i]\n",
    "\n",
    "        poly = galois.lagrange_poly(points_x, points_y)\n",
    "        coef = poly.coefficients()[::-1]\n",
    "        if len(coef) < m.shape[0]:\n",
    "            coef = np.append(coef, np.zeros(m.shape[0] - len(coef), dtype=int))\n",
    "        poly_list.append(coef)\n",
    "    \n",
    "    poly_m.append(FP(poly_list))\n",
    "\n",
    "Lp = poly_m[0]\n",
    "Rp = poly_m[1]\n",
    "Op = poly_m[2]\n",
    "\n",
    "print(f'''Lp\n",
    "{Lp}\n",
    "''')\n",
    "\n",
    "print(f'''Rp\n",
    "{Rp}\n",
    "''')\n",
    "\n",
    "print(f'''Op\n",
    "{Op}\n",
    "''')"
   ]
  },
  {
   "cell_type": "code",
   "execution_count": 45,
   "metadata": {},
   "outputs": [
    {
     "name": "stdout",
     "output_type": "stream",
     "text": [
      "U =  32x^4 + 12x^3 + 51x^2 + 65x + 55\n",
      "V =  36x^4 + 53x^3 + 63x^2 + 37x + 26\n",
      "W =  24x^4 + 40x^3 + 25x^2 + 57\n"
     ]
    }
   ],
   "source": [
    "U = galois.Poly((w @ Lp)[::-1])\n",
    "V = galois.Poly((w @ Rp)[::-1])\n",
    "W = galois.Poly((w @ Op)[::-1])\n",
    "\n",
    "print(\"U = \", U)\n",
    "print(\"V = \", V)\n",
    "print(\"W = \", W)"
   ]
  },
  {
   "cell_type": "code",
   "execution_count": 46,
   "metadata": {},
   "outputs": [
    {
     "name": "stdout",
     "output_type": "stream",
     "text": [
      "τ = 20\n",
      "\n",
      "T =  x^5 + 56x^4 + 14x^3 + 59x^2 + 61x + 22\n",
      "T(1) =  0\n",
      "T(2) =  0\n",
      "T(3) =  0\n",
      "T(4) =  0\n",
      "T(5) =  0\n",
      "----------\n",
      "T(6) =  49\n",
      "\n",
      "T(τ) = 68\n"
     ]
    }
   ],
   "source": [
    "tau = FP(20)\n",
    "\n",
    "print(f\"τ = {tau}\")\n",
    "\n",
    "T = galois.Poly([1, p-1], field=FP)\n",
    "for i in range(2, L.shape[0] + 1):\n",
    "    T *= galois.Poly([1, p-i], field=FP)\n",
    "\n",
    "print(\"\\nT = \", T)\n",
    "for i in range(1, L.shape[0] + 2):\n",
    "    print(f\"T({i}) = \", T(i))\n",
    "    if i == L.shape[0]:\n",
    "        print(\"-\"*10)\n",
    "\n",
    "T_tau = T(tau)\n",
    "print(f\"\\nT(τ) = {T_tau}\")"
   ]
  },
  {
   "cell_type": "code",
   "execution_count": 47,
   "metadata": {},
   "outputs": [
    {
     "name": "stdout",
     "output_type": "stream",
     "text": [
      "H =  16x^3 + 25x^2 + 24x + 14\n",
      "rem =  0\n"
     ]
    }
   ],
   "source": [
    "H = (U * V - W) // T\n",
    "rem = (U * V - W) % T\n",
    "\n",
    "print(\"H = \", H)\n",
    "print(\"rem = \", rem)\n",
    "\n",
    "assert rem == 0"
   ]
  },
  {
   "cell_type": "code",
   "execution_count": 48,
   "metadata": {},
   "outputs": [],
   "source": [
    "u = U(tau)\n",
    "v = V(tau)\n",
    "_w = W(tau) # sorry, w is taken by witness vector\n",
    "ht = H(tau)*T_tau\n",
    "\n",
    "assert u * v - _w == ht, f\"{u} * {v} - {_w} != {ht}\" # this equation should hold"
   ]
  },
  {
   "cell_type": "markdown",
   "metadata": {},
   "source": [
    "# Partie 4 "
   ]
  },
  {
   "cell_type": "markdown",
   "metadata": {},
   "source": [
    "### Coté setup"
   ]
  },
  {
   "cell_type": "code",
   "execution_count": 49,
   "metadata": {},
   "outputs": [
    {
     "name": "stdout",
     "output_type": "stream",
     "text": [
      "Setup phase\n",
      "----------\n",
      "Toxic waste:\n",
      "τ = 20\n",
      "\n",
      "T(τ) = 68\n",
      "Trusted setup:\n",
      "----------\n",
      "[τ]G1 = [(1, 2), (18947110137775984544896515092961257947872750783784269176923414004072777296602, 12292085037693291586083644966434670280746730626861846747147579999202931064992), (15630250211619345980264659554171089045460684386745982646195304578474625146473, 13597371564520873079214108010918820572395693243527082948219837354327653001066), (10609540540875827932797320455850052859827897498153948414964160013685734487046, 4813993645475805825314378837641334666424083557311142113454529369033402933209), (16711416843522114883433203178480474873102412521895441414645328675899158417507, 8853086173564136849925865683598036960975837022999254197357454379453354604209)]\n",
      "[T(τ)]G1 = [(8387425215776935415463627011971628724627661219697159780852247626883884054341, 4926370050544530674325564905924101320801285406104080171983196085097719394544), (19033251874843656108471242320417533909414939332036131356573128480367742634479, 20792135454608030201903199625673964159744755218442260092768620403349374102584), (10415861484417082502655338383609494480414113902179649885744799961447382638712, 10196215078179488638353184030336251401353352596818396260819493263908881608606), (5138697240077803445514669414784254799933862402946278134326199877546184124353, 12587011617949543324467535889916856826666519601316494966427400843934921824601)]\n",
      "\n",
      "[τ]G2 = [((10857046999023057135944570762232829481370756359578518086990519993285655852781, 11559732032986387107991004021392285783925812861821192530917403151452391805634), (8495653923123431417604973247489272438418190587263600148770280649306958101930, 4082367875863433681332203403145435568316851327593401208105741076214120093531)), ((6584456886510528562221720296624431746328412524156386210384049614268366928061, 13505823173380835868587575884635704883599421098297400455389802021584825778173), (5101591763860554569577488373372350852473588323930260132008193335489992486594, 17537837094362477976396927178636162167615173290927363003743794104386247847571)), ((20501356746169456569880524656444955310231738270221833401015153759736055559472, 17805625085787468682872833450041117594827747373612625997749163944825993920846), (21800332481093767987136441750551389644723555696423101899808424175997747099776, 15392832983847858489800010546201821852082126202610666443139539872219715317669)), ((8491602147423900540545369888919715951815432453288379611050163107665997093770, 9161833947361390455359864686368552674308200579608418613751415564796697494543), (11051711857613773823003152601651130917894272386949550809221860763835639354458, 499270719753149548173433078598026886381095560247491582190415338985567018107)), ((21740656624264531918905957436349160317178065932174634873434489096384118284193, 2019050928575347605638490762886992026922085924959710776569383806797571971069), (768940004759184688611731872359665907813921273999645987556749132562407031847, 9386111668168143378799867099066976687163019156923561176364278935596535020065))]\n"
     ]
    }
   ],
   "source": [
    "print(\"Setup phase\")\n",
    "print(\"-\"*10)\n",
    "print(\"Toxic waste:\")\n",
    "tau = FP(20)\n",
    "\n",
    "print(f\"τ = {tau}\")\n",
    "\n",
    "T_tau = T(tau)\n",
    "print(f\"\\nT(τ) = {T_tau}\")\n",
    "\n",
    "# ...\n",
    "from py_ecc.optimized_bn128 import multiply, G1, G2, add, pairing, neg, normalize\n",
    "\n",
    "# G1[τ^0], G1[τ^1], ..., G1[τ^d]\n",
    "tau_G1 = [multiply(G1, int(tau**i)) for i in range(0, T.degree)]\n",
    "# G1[τ^0 * T(τ)], G1[τ^1 * T(τ)], ..., G1[τ^d-1 * T(τ)]\n",
    "target_G1 = [multiply(G1, int(tau**i * T_tau)) for i in range(0, T.degree - 1)]\n",
    "\n",
    "# G2[τ^0], G2[τ^1], ..., G2[τ^d]\n",
    "tau_G2 = [multiply(G2, int(tau**i)) for i in range(0, T.degree)]\n",
    "\n",
    "print(\"Trusted setup:\")\n",
    "print(\"-\"*10)\n",
    "print(f\"[τ]G1 = {[normalize(point) for point in tau_G1]}\")\n",
    "print(f\"[T(τ)]G1 = {[normalize(point) for point in target_G1]}\")\n",
    "\n",
    "print(f\"\\n[τ]G2 = {[normalize(point) for point in tau_G2]}\")"
   ]
  },
  {
   "cell_type": "markdown",
   "metadata": {},
   "source": [
    "### Coté Prover"
   ]
  },
  {
   "cell_type": "code",
   "execution_count": 50,
   "metadata": {},
   "outputs": [
    {
     "name": "stdout",
     "output_type": "stream",
     "text": [
      "\n",
      "Proof generation:\n",
      "----------\n",
      "[A]G1 = (7017025200078758986405774325560333190346992234649822631849778427774327985956, 5958546404623823338460408764445293216853207166124345976361550204035544473939)\n",
      "[B]G2 = ((6025717277188619969774194218275019843478408012016003314468349889098740594070, 10636153660501346958458350109359645700707230832728821207243598043977984638327), (17558649791399501547859830165664567074769931867535519047872130615461993564266, 12877549220549518351367099638512551281844727802331459509720946353383306135709))\n",
      "[C]G1 = (11131247908022881740571036530800568246102207356973368433630315726932674783054, 7206534061952323513685186539091641199172073138897185427341586707581061450103)\n"
     ]
    }
   ],
   "source": [
    "def evaluate_poly(poly, trusted_points, verbose=False):\n",
    "    coeff = poly.coefficients()[::-1]\n",
    "\n",
    "    assert len(coeff) == len(trusted_points), \"Polynomial degree mismatch!\"\n",
    "\n",
    "    if verbose:\n",
    "        [print(normalize(point)) for point in trusted_points]\n",
    "\n",
    "    terms = [multiply(point, int(coeff)) for point, coeff in zip(trusted_points, coeff)]\n",
    "    evaluation = terms[0]\n",
    "    for i in range(1, len(terms)):\n",
    "        evaluation = add(evaluation, terms[i])\n",
    "\n",
    "    if verbose:\n",
    "        print(\"-\"*10)\n",
    "        print(normalize(evaluation))\n",
    "    return evaluation\n",
    "\n",
    "print(\"\\nProof generation:\")\n",
    "print(\"-\"*10)\n",
    "# G1[u0 * τ^0] + G1[u1 * τ^1] + ... + G1[ud-1 * τ^d-1]\n",
    "A_G1 = evaluate_poly(U, tau_G1)\n",
    "# G2[v0 * τ^0] + G2[v1 * τ^1] + ... + G2[vd-1 * τ^d-1]\n",
    "B_G2 = evaluate_poly(V, tau_G2)\n",
    "# G1[w0 * τ^0] + G1[w1 * τ^1] + ... + G1[wd-1 * τ^d-1]\n",
    "B_G1 = evaluate_poly(V, tau_G1)\n",
    "# G1[w0 * τ^0] + G1[w1 * τ^1] + ... + G1[wd-1 * τ^d-1]\n",
    "Cw_G1 = evaluate_poly(W, tau_G1)\n",
    "# G1[h0 * τ^0 * T(τ)] + G1[h1 * τ^1 * T(τ)] + ... + G1[hd-2 * τ^d-2 * T(τ)]\n",
    "HT_G1 = evaluate_poly(H, target_G1)\n",
    "\n",
    "C_G1 = add(Cw_G1, HT_G1)\n",
    "\n",
    "print(f\"[A]G1 = {normalize(A_G1)}\")\n",
    "print(f\"[B]G2 = {normalize(B_G2)}\")\n",
    "print(f\"[C]G1 = {normalize(C_G1)}\")"
   ]
  },
  {
   "cell_type": "markdown",
   "metadata": {},
   "source": [
    "### Coté Verifier"
   ]
  },
  {
   "cell_type": "code",
   "execution_count": 51,
   "metadata": {},
   "outputs": [
    {
     "name": "stdout",
     "output_type": "stream",
     "text": [
      "\n",
      "Proof verification:\n",
      "----------\n"
     ]
    },
    {
     "ename": "AssertionError",
     "evalue": "Pairing check failed!",
     "output_type": "error",
     "traceback": [
      "\u001b[1;31m---------------------------------------------------------------------------\u001b[0m",
      "\u001b[1;31mAssertionError\u001b[0m                            Traceback (most recent call last)",
      "\u001b[1;32mc:\\Users\\bapti\\Desktop\\ZKP-research\\First-ZkSNARK\\test-GF-lagrange.ipynb Cell 13\u001b[0m line \u001b[0;36m4\n\u001b[0;32m      <a href='vscode-notebook-cell:/c%3A/Users/bapti/Desktop/ZKP-research/First-ZkSNARK/test-GF-lagrange.ipynb#X15sZmlsZQ%3D%3D?line=1'>2</a>\u001b[0m \u001b[39mprint\u001b[39m(\u001b[39m\"\u001b[39m\u001b[39m-\u001b[39m\u001b[39m\"\u001b[39m\u001b[39m*\u001b[39m\u001b[39m10\u001b[39m)\n\u001b[0;32m      <a href='vscode-notebook-cell:/c%3A/Users/bapti/Desktop/ZKP-research/First-ZkSNARK/test-GF-lagrange.ipynb#X15sZmlsZQ%3D%3D?line=2'>3</a>\u001b[0m \u001b[39m# e(A, B) == e(C, G2[1])\u001b[39;00m\n\u001b[1;32m----> <a href='vscode-notebook-cell:/c%3A/Users/bapti/Desktop/ZKP-research/First-ZkSNARK/test-GF-lagrange.ipynb#X15sZmlsZQ%3D%3D?line=3'>4</a>\u001b[0m \u001b[39massert\u001b[39;00m pairing(B_G2, A_G1) \u001b[39m==\u001b[39m pairing(G2, C_G1), \u001b[39m\"\u001b[39m\u001b[39mPairing check failed!\u001b[39m\u001b[39m\"\u001b[39m\n\u001b[0;32m      <a href='vscode-notebook-cell:/c%3A/Users/bapti/Desktop/ZKP-research/First-ZkSNARK/test-GF-lagrange.ipynb#X15sZmlsZQ%3D%3D?line=4'>5</a>\u001b[0m \u001b[39mprint\u001b[39m(\u001b[39m\"\u001b[39m\u001b[39mPairing check passed!\u001b[39m\u001b[39m\"\u001b[39m)\n",
      "\u001b[1;31mAssertionError\u001b[0m: Pairing check failed!"
     ]
    }
   ],
   "source": [
    "print(\"\\nProof verification:\")\n",
    "print(\"-\"*10)\n",
    "# e(A, B) == e(C, G2[1])\n",
    "assert pairing(B_G2, A_G1) == pairing(G2, C_G1), \"Pairing check failed!\"\n",
    "print(\"Pairing check passed!\")"
   ]
  },
  {
   "cell_type": "markdown",
   "metadata": {},
   "source": [
    "# Partie 5"
   ]
  },
  {
   "cell_type": "code",
   "execution_count": null,
   "metadata": {},
   "outputs": [
    {
     "name": "stdout",
     "output_type": "stream",
     "text": [
      "Setup phase\n",
      "----------\n",
      "Toxic waste:\n",
      "α = 2\n",
      "β = 3\n",
      "τ = 20\n",
      "\n",
      "K polynomials:\n",
      "K_0 = 0\n",
      "K_1 = 3x^4 + 41x^3 + 34x^2 + 63x + 1\n",
      "K_2 = 60x^4 + 45x^3 + 48x^2 + 56x + 9\n",
      "K_3 = 41x^4 + 54x^3 + 66x^2 + 21x + 31\n",
      "K_4 = 29x^4 + 41x^3 + 25x^2 + 54x + 65\n",
      "K_5 = 32x^4 + 36x^3 + 48x^2 + 48x + 49\n",
      "K_6 = 15x^4 + 27x^3 + 67x^2 + 24x + 9\n",
      "K_7 = 62x^4 + 31x^3 + 39x^2 + 14x + 67\n",
      "K evaluations:\n",
      "[0, 42, 1, 4, 57, 46, 30, 62]\n"
     ]
    }
   ],
   "source": [
    "def evaluate_poly_list(poly_list, x):\n",
    "    results = []\n",
    "    for poly in poly_list:\n",
    "        results.append(poly(x))\n",
    "    return results\n",
    "\n",
    "def print_evaluation(name, results):\n",
    "    print(f'\\n{name} polynomial evaluations:')\n",
    "    for i in range(0, len(results)):\n",
    "        print(f'{name}_{i} = {results[i]}')\n",
    "\n",
    "def to_poly(mtx):\n",
    "    poly_list = []\n",
    "    for i in range(0, mtx.shape[0]):\n",
    "        poly_list.append( galois.Poly(mtx[i][::-1]) )\n",
    "    return poly_list\n",
    "\n",
    "def print_poly(name, poly_list):\n",
    "    print(f'\\n{name} polynomials:')\n",
    "    for i in range(0, len(poly_list)):\n",
    "        print(f'{name}_{i} = {poly_list[i]}')\n",
    "\n",
    "print(\"Setup phase\")\n",
    "print(\"-\"*10)\n",
    "print(\"Toxic waste:\")\n",
    "alpha = FP(2)\n",
    "beta = FP(3)\n",
    "tau = FP(20)\n",
    "\n",
    "print(f\"α = {alpha}\")\n",
    "print(f\"β = {beta}\")\n",
    "print(f\"τ = {tau}\")\n",
    "\n",
    "beta_L = beta * Lp\n",
    "alpha_R = alpha * Rp\n",
    "K = beta_L + alpha_R + Op # preimage of [βA + αB + C]\n",
    "\n",
    "Kp = to_poly(K)\n",
    "print_poly(\"K\", Kp)\n",
    "\n",
    "print(\"K evaluations:\")\n",
    "K_eval = evaluate_poly_list(Kp, tau)\n",
    "print([int(k) for k in K_eval])"
   ]
  },
  {
   "cell_type": "code",
   "execution_count": null,
   "metadata": {},
   "outputs": [
    {
     "name": "stdout",
     "output_type": "stream",
     "text": [
      "Trusted setup:\n",
      "----------\n",
      "[α]G1 = (1368015179489954701390400359078579693043519447331113978918064868415326638035, 9918110051302171585080402603319702774565515993150576347155970296011118125764)\n",
      "[β]G1 = (3353031288059533942658390886683067124040920775575537747144343083137631628272, 19321533766552368860946552437480515441416830039777911637913418824951667761761)\n",
      "[τ]G1 = [(1, 2), (18947110137775984544896515092961257947872750783784269176923414004072777296602, 12292085037693291586083644966434670280746730626861846747147579999202931064992), (15630250211619345980264659554171089045460684386745982646195304578474625146473, 13597371564520873079214108010918820572395693243527082948219837354327653001066), (10609540540875827932797320455850052859827897498153948414964160013685734487046, 4813993645475805825314378837641334666424083557311142113454529369033402933209), (16711416843522114883433203178480474873102412521895441414645328675899158417507, 8853086173564136849925865683598036960975837022999254197357454379453354604209)]\n",
      "[k]G1 = [(0, 0), (4312786488925573964619847916436127219510912864504589785209181363209026354996, 16161347681839669251864665467703281411292235435048747094987907712909939880451), (1, 2), (3010198690406615200373504922352659861758983907867017329644089018310584441462, 4027184618003122424972590350825261965929648733675738730716654005365300998076), (5267322610033386327594727284085617807706598503218388887104616381227512437954, 201257782416518842482277204984225354519663728413732211137155795260901992108), (10076202152297490686204017674658616195706856331923113611424582186251671204174, 5332583658353911387952875219880585170702835693592572334525184064653452913461), (1527465159374431915328497116935179161014331322368960485951268517950184093102, 17274044707157828649723710289902216429715848248207037129568326237800068062774), (11685980195759592932437927699188695536499721809655450855081121091338317781569, 21462805816499239816910648235899924534970960585255554399527411795040621885686)]\n",
      "[τT(τ)]G1 = [(8387425215776935415463627011971628724627661219697159780852247626883884054341, 4926370050544530674325564905924101320801285406104080171983196085097719394544), (19033251874843656108471242320417533909414939332036131356573128480367742634479, 20792135454608030201903199625673964159744755218442260092768620403349374102584), (10415861484417082502655338383609494480414113902179649885744799961447382638712, 10196215078179488638353184030336251401353352596818396260819493263908881608606), (5138697240077803445514669414784254799933862402946278134326199877546184124353, 12587011617949543324467535889916856826666519601316494966427400843934921824601)]\n",
      "\n",
      "[β]G2 = ((2725019753478801796453339367788033689375851816420509565303521482350756874229, 7273165102799931111715871471550377909735733521218303035754523677688038059653), (2512659008974376214222774206987427162027254181373325676825515531566330959255, 957874124722006818841961785324909313781880061366718538693995380805373202866))\n",
      "[τ]G2 = [((10857046999023057135944570762232829481370756359578518086990519993285655852781, 11559732032986387107991004021392285783925812861821192530917403151452391805634), (8495653923123431417604973247489272438418190587263600148770280649306958101930, 4082367875863433681332203403145435568316851327593401208105741076214120093531)), ((6584456886510528562221720296624431746328412524156386210384049614268366928061, 13505823173380835868587575884635704883599421098297400455389802021584825778173), (5101591763860554569577488373372350852473588323930260132008193335489992486594, 17537837094362477976396927178636162167615173290927363003743794104386247847571)), ((20501356746169456569880524656444955310231738270221833401015153759736055559472, 17805625085787468682872833450041117594827747373612625997749163944825993920846), (21800332481093767987136441750551389644723555696423101899808424175997747099776, 15392832983847858489800010546201821852082126202610666443139539872219715317669)), ((8491602147423900540545369888919715951815432453288379611050163107665997093770, 9161833947361390455359864686368552674308200579608418613751415564796697494543), (11051711857613773823003152601651130917894272386949550809221860763835639354458, 499270719753149548173433078598026886381095560247491582190415338985567018107)), ((21740656624264531918905957436349160317178065932174634873434489096384118284193, 2019050928575347605638490762886992026922085924959710776569383806797571971069), (768940004759184688611731872359665907813921273999645987556749132562407031847, 9386111668168143378799867099066976687163019156923561176364278935596535020065))]\n"
     ]
    }
   ],
   "source": [
    "from py_ecc.optimized_bn128 import multiply, G1, G2, add, pairing, neg, normalize, eq\n",
    "\n",
    "# G1[α]\n",
    "alpha_G1 = multiply(G1, int(alpha))\n",
    "# G1[β]\n",
    "beta_G1 = multiply(G1, int(beta))\n",
    "# G1[τ^0], G1[τ^1], ..., G1[τ^d]\n",
    "tau_G1 = [multiply(G1, int(tau**i)) for i in range(0, T.degree)]\n",
    "# G1[βU0(τ) + αV0(τ) + W0(τ)], G1[βU1(τ) + αV1(τ) + W1(τ)], ..., G1[βUd(τ) + αVd(τ) + Wd(τ)]\n",
    "k_G1 = [multiply(G1, int(k)) for k in K_eval]\n",
    "# G1[τ^0 * T(τ)], G1[τ^1 * T(τ)], ..., G1[τ^d-1 * T(τ)]\n",
    "target_G1 = [multiply(G1, int(tau**i * T_tau)) for i in range(0, T.degree - 1)]\n",
    "\n",
    "# G2[α]\n",
    "beta_G2 = multiply(G2, int(beta))\n",
    "# G2[τ^0], G2[τ^1], ..., G2[τ^d-1]\n",
    "tau_G2 = [multiply(G2, int(tau**i)) for i in range(0, T.degree)]\n",
    "\n",
    "print(\"Trusted setup:\")\n",
    "print(\"-\"*10)\n",
    "print(f\"[α]G1 = {normalize(alpha_G1)}\")\n",
    "print(f\"[β]G1 = {normalize(beta_G1)}\")\n",
    "print(f\"[τ]G1 = {[normalize(point) for point in tau_G1]}\")\n",
    "print(f\"[k]G1 = {[normalize(point) for point in k_G1]}\")\n",
    "print(f\"[τT(τ)]G1 = {[normalize(point) for point in target_G1]}\")\n",
    "\n",
    "print(f\"\\n[β]G2 = {normalize(beta_G2)}\")\n",
    "print(f\"[τ]G2 = {[normalize(point) for point in tau_G2]}\")"
   ]
  },
  {
   "cell_type": "markdown",
   "metadata": {},
   "source": [
    "### Coté prover"
   ]
  },
  {
   "cell_type": "code",
   "execution_count": null,
   "metadata": {},
   "outputs": [
    {
     "name": "stdout",
     "output_type": "stream",
     "text": [
      "\n",
      "Proof generation:\n",
      "----------\n",
      "[A]G1 = (20201057621909565222688015974061663065890801345394248902888101015073879938174, 15260690854872544540033521081834700467833154363773231429131426606228764242577)\n",
      "[B]G2 = ((13042121125384136861974056431394866124364898781579936575642795533356734091551, 9713768507479770422998816484884285700180435862667271407681349794085617610483), (2732982957804448731660480125369159110015202240788146056928240163160181308933, 13655728535246490435756951434113857426551031172958877265584860801288365267682))\n",
      "[C]G1 = (9670159118770557166884645129249860042320569361761535450143898218274202339564, 14618672235222928151465322266525869260518771635325390514956999581783680134810)\n",
      "----------\n",
      "Verifier uses:\n",
      "[α]G1 = (1368015179489954701390400359078579693043519447331113978918064868415326638035, 9918110051302171585080402603319702774565515993150576347155970296011118125764)\n",
      "[β]G1 = (3353031288059533942658390886683067124040920775575537747144343083137631628272, 19321533766552368860946552437480515441416830039777911637913418824951667761761)\n"
     ]
    }
   ],
   "source": [
    "print(\"\\nProof generation:\")\n",
    "print(\"-\"*10)\n",
    "\n",
    "U = galois.Poly((w @ Lp)[::-1])\n",
    "V = galois.Poly((w @ Rp)[::-1])\n",
    "\n",
    "# G1[u0 * τ^0] + G1[u1 * τ^1] + ... + G1[ud-1 * τ^d-1]\n",
    "A_G1 = evaluate_poly(U, tau_G1)\n",
    "# G1[A] = G1[A] + G1[α]\n",
    "A_G1 = add(A_G1, alpha_G1)\n",
    "# G2[v0 * τ^0] + G2[v1 * τ^1] + ... + G2[vd-1 * τ^d-1]\n",
    "B_G2 = evaluate_poly(V, tau_G2)\n",
    "# G2[B] = G2[B] + G2[β]\n",
    "B_G2 = add(B_G2, beta_G2)\n",
    "# G1[h0 * τ^0 * T(τ)] + G1[h1 * τ^1 * T(τ)] + ... + G1[hd-2 * τ^d-2 * T(τ)]\n",
    "HT_G1 = evaluate_poly(H, target_G1)\n",
    "assert len(w) == len(k_G1), \"Polynomial degree mismatch!\"\n",
    "# w0 * G1[k0] + w1 * G1[k1] + ... + wd-1 * G1[kd-1]\n",
    "K_G1_terms = [multiply(point, int(scaler)) for point, scaler in zip(k_G1, w)]\n",
    "K_G1 = K_G1_terms[0]\n",
    "for i in range(1, len(K_G1_terms)):\n",
    "    K_G1 = add(K_G1, K_G1_terms[i])\n",
    "\n",
    "C_G1 = add(HT_G1, K_G1)\n",
    "\n",
    "print(f\"[A]G1 = {normalize(A_G1)}\")\n",
    "print(f\"[B]G2 = {normalize(B_G2)}\")\n",
    "print(f\"[C]G1 = {normalize(C_G1)}\")\n",
    "print(\"-\" * 10)\n",
    "print(\"Verifier uses:\")\n",
    "print(f\"[α]G1 = {normalize(alpha_G1)}\")\n",
    "print(f\"[β]G1 = {normalize(beta_G1)}\")"
   ]
  },
  {
   "cell_type": "markdown",
   "metadata": {},
   "source": [
    "#### Coté Verifier (pas possible de faire des additions pour pairing ...)"
   ]
  },
  {
   "cell_type": "code",
   "execution_count": null,
   "metadata": {},
   "outputs": [
    {
     "ename": "TypeError",
     "evalue": "Expected an int or FQP object, but got object of type <class 'py_ecc.fields.optimized_bn128_FQ'>",
     "output_type": "error",
     "traceback": [
      "\u001b[1;31m---------------------------------------------------------------------------\u001b[0m",
      "\u001b[1;31mTypeError\u001b[0m                                 Traceback (most recent call last)",
      "\u001b[1;32mc:\\Users\\bapti\\Desktop\\ZKP-research\\First-ZkSNARK\\test-GF-lagrange.ipynb Cell 20\u001b[0m line \u001b[0;36m5\n\u001b[0;32m      <a href='vscode-notebook-cell:/c%3A/Users/bapti/Desktop/ZKP-research/First-ZkSNARK/test-GF-lagrange.ipynb#X25sZmlsZQ%3D%3D?line=0'>1</a>\u001b[0m \u001b[39m# A = A + α\u001b[39;00m\n\u001b[0;32m      <a href='vscode-notebook-cell:/c%3A/Users/bapti/Desktop/ZKP-research/First-ZkSNARK/test-GF-lagrange.ipynb#X25sZmlsZQ%3D%3D?line=1'>2</a>\u001b[0m \u001b[39m# B = B + β\u001b[39;00m\n\u001b[0;32m      <a href='vscode-notebook-cell:/c%3A/Users/bapti/Desktop/ZKP-research/First-ZkSNARK/test-GF-lagrange.ipynb#X25sZmlsZQ%3D%3D?line=2'>3</a>\u001b[0m \u001b[39m# C = βA + αB + C\u001b[39;00m\n\u001b[0;32m      <a href='vscode-notebook-cell:/c%3A/Users/bapti/Desktop/ZKP-research/First-ZkSNARK/test-GF-lagrange.ipynb#X25sZmlsZQ%3D%3D?line=3'>4</a>\u001b[0m \u001b[39m# AB == αβ + [βA + αB + C]\u001b[39;00m\n\u001b[1;32m----> <a href='vscode-notebook-cell:/c%3A/Users/bapti/Desktop/ZKP-research/First-ZkSNARK/test-GF-lagrange.ipynb#X25sZmlsZQ%3D%3D?line=4'>5</a>\u001b[0m \u001b[39massert\u001b[39;00m pairing(B_G2, A_G1) \u001b[39m==\u001b[39m pairing(beta_G1, alpha_G1) \u001b[39m+\u001b[39m pairing(G2, C_G1)\n",
      "File \u001b[1;32mc:\\Users\\bapti\\AppData\\Local\\Programs\\Python\\Python310\\lib\\site-packages\\py_ecc\\optimized_bn128\\optimized_pairing.py:157\u001b[0m, in \u001b[0;36mpairing\u001b[1;34m(Q, P, final_exponentiate)\u001b[0m\n\u001b[0;32m    154\u001b[0m \u001b[39mdef\u001b[39;00m \u001b[39mpairing\u001b[39m(Q: Optimized_Point3D[FQ2],\n\u001b[0;32m    155\u001b[0m             P: Optimized_Point3D[FQ],\n\u001b[0;32m    156\u001b[0m             final_exponentiate: \u001b[39mbool\u001b[39m \u001b[39m=\u001b[39m \u001b[39mTrue\u001b[39;00m) \u001b[39m-\u001b[39m\u001b[39m>\u001b[39m FQ12:\n\u001b[1;32m--> 157\u001b[0m     \u001b[39massert\u001b[39;00m is_on_curve(Q, b2)\n\u001b[0;32m    158\u001b[0m     \u001b[39massert\u001b[39;00m is_on_curve(P, b)\n\u001b[0;32m    159\u001b[0m     \u001b[39mif\u001b[39;00m P[\u001b[39m-\u001b[39m\u001b[39m1\u001b[39m] \u001b[39m==\u001b[39m (P[\u001b[39m-\u001b[39m\u001b[39m1\u001b[39m]\u001b[39m.\u001b[39mzero()) \u001b[39mor\u001b[39;00m Q[\u001b[39m-\u001b[39m\u001b[39m1\u001b[39m] \u001b[39m==\u001b[39m (Q[\u001b[39m-\u001b[39m\u001b[39m1\u001b[39m]\u001b[39m.\u001b[39mzero()):\n",
      "File \u001b[1;32mc:\\Users\\bapti\\AppData\\Local\\Programs\\Python\\Python310\\lib\\site-packages\\py_ecc\\optimized_bn128\\optimized_curve.py:65\u001b[0m, in \u001b[0;36mis_on_curve\u001b[1;34m(pt, b)\u001b[0m\n\u001b[0;32m     63\u001b[0m     \u001b[39mreturn\u001b[39;00m \u001b[39mTrue\u001b[39;00m\n\u001b[0;32m     64\u001b[0m x, y, z \u001b[39m=\u001b[39m pt\n\u001b[1;32m---> 65\u001b[0m \u001b[39mreturn\u001b[39;00m y\u001b[39m*\u001b[39m\u001b[39m*\u001b[39m\u001b[39m2\u001b[39m \u001b[39m*\u001b[39m z \u001b[39m-\u001b[39m x\u001b[39m*\u001b[39m\u001b[39m*\u001b[39m\u001b[39m3\u001b[39m \u001b[39m==\u001b[39m b \u001b[39m*\u001b[39;49m z\u001b[39m*\u001b[39;49m\u001b[39m*\u001b[39;49m\u001b[39m3\u001b[39;49m\n",
      "File \u001b[1;32mc:\\Users\\bapti\\AppData\\Local\\Programs\\Python\\Python310\\lib\\site-packages\\py_ecc\\fields\\optimized_field_elements.py:304\u001b[0m, in \u001b[0;36mFQP.__mul__\u001b[1;34m(self, other)\u001b[0m\n\u001b[0;32m    302\u001b[0m     \u001b[39mreturn\u001b[39;00m \u001b[39mtype\u001b[39m(\u001b[39mself\u001b[39m)([x \u001b[39m%\u001b[39m \u001b[39mself\u001b[39m\u001b[39m.\u001b[39mfield_modulus \u001b[39mfor\u001b[39;00m x \u001b[39min\u001b[39;00m b])\n\u001b[0;32m    303\u001b[0m \u001b[39melse\u001b[39;00m:\n\u001b[1;32m--> 304\u001b[0m     \u001b[39mraise\u001b[39;00m \u001b[39mTypeError\u001b[39;00m(\n\u001b[0;32m    305\u001b[0m         \u001b[39m\"\u001b[39m\u001b[39mExpected an int or FQP object, but got object of type \u001b[39m\u001b[39m{}\u001b[39;00m\u001b[39m\"\u001b[39m\n\u001b[0;32m    306\u001b[0m         \u001b[39m.\u001b[39mformat(\u001b[39mtype\u001b[39m(other))\n\u001b[0;32m    307\u001b[0m     )\n",
      "\u001b[1;31mTypeError\u001b[0m: Expected an int or FQP object, but got object of type <class 'py_ecc.fields.optimized_bn128_FQ'>"
     ]
    }
   ],
   "source": [
    "# A = A + α\n",
    "# B = B + β\n",
    "# C = βA + αB + C\n",
    "# AB == αβ + [βA + αB + C]\n",
    "assert pairing(B_G2, A_G1) == pairing(beta_G1, alpha_G1) + pairing(G2, C_G1)\n"
   ]
  },
  {
   "cell_type": "markdown",
   "metadata": {},
   "source": [
    "### on va separer w en deux avec public et private"
   ]
  },
  {
   "cell_type": "code",
   "execution_count": null,
   "metadata": {},
   "outputs": [],
   "source": [
    "def split_poly(poly):\n",
    "    coef = [int(c) for c in poly.coefficients()]\n",
    "    p1 = coef[-2:]\n",
    "    p2 = coef[:-2] + [0] * 2\n",
    "\n",
    "    return galois.Poly(p1, field=FP), galois.Poly(p2, field=FP)\n",
    "\n",
    "u = U(tau)\n",
    "v = V(tau)\n",
    "_w = W(tau) # w taken by witness vector\n",
    "ht = H(tau)*T_tau\n",
    "\n",
    "U1, U2 = split_poly(U)\n",
    "V1, V2 = split_poly(V)\n",
    "W1, W2 = split_poly(W)\n",
    "\n",
    "w1 = W1(tau)\n",
    "w2 = W2(tau)\n",
    "\n",
    "u1 = U1(tau)\n",
    "u2 = U2(tau)\n",
    "\n",
    "v1 = V1(tau)\n",
    "v2 = V2(tau)\n",
    "\n",
    "c = (beta * u2 + alpha * v2 + w2) + ht \n",
    "k = (beta * u1 + alpha * v1 + w1)\n",
    "\n",
    "assert (u + alpha) * (v + beta) == alpha * beta + k + c # should be equal"
   ]
  },
  {
   "cell_type": "code",
   "execution_count": null,
   "metadata": {},
   "outputs": [
    {
     "name": "stdout",
     "output_type": "stream",
     "text": [
      "[k_pub]G1 = [(0, 0), (4312786488925573964619847916436127219510912864504589785209181363209026354996, 16161347681839669251864665467703281411292235435048747094987907712909939880451)]\n",
      "[k_priv]G1 = [(1, 2), (3010198690406615200373504922352659861758983907867017329644089018310584441462, 4027184618003122424972590350825261965929648733675738730716654005365300998076), (5267322610033386327594727284085617807706598503218388887104616381227512437954, 201257782416518842482277204984225354519663728413732211137155795260901992108), (10076202152297490686204017674658616195706856331923113611424582186251671204174, 5332583658353911387952875219880585170702835693592572334525184064653452913461), (1527465159374431915328497116935179161014331322368960485951268517950184093102, 17274044707157828649723710289902216429715848248207037129568326237800068062774), (11685980195759592932437927699188695536499721809655450855081121091338317781569, 21462805816499239816910648235899924534970960585255554399527411795040621885686)]\n",
      "pub_input = [ 1 33]\n",
      "priv_input = [ 2  3  4  9 40  2]\n"
     ]
    }
   ],
   "source": [
    "k_pub_G1, k_priv_G1 = k_G1[:2], k_G1[2:]\n",
    "pub_input, priv_input = w[:2], w[2:]\n",
    "\n",
    "print(f\"[k_pub]G1 = {[normalize(point) for point in k_pub_G1]}\")\n",
    "print(f\"[k_priv]G1 = {[normalize(point) for point in k_priv_G1]}\")\n",
    "\n",
    "print(f\"pub_input = {pub_input}\")\n",
    "print(f\"priv_input = {priv_input}\")"
   ]
  },
  {
   "cell_type": "code",
   "execution_count": null,
   "metadata": {},
   "outputs": [],
   "source": [
    "### Prover\n",
    "\n",
    "K_priv_G1_terms = [multiply(point, int(scaler)) for point, scaler in zip(k_priv_G1, priv_input)]\n",
    "K_priv_G1 = K_priv_G1_terms[0]\n",
    "for i in range(1, len(K_priv_G1_terms)):\n",
    "    K_priv_G1 = add(K_priv_G1, K_priv_G1_terms[i])\n",
    "\n",
    "C_G1 = add(HT_G1, K_priv_G1)\n",
    "\n",
    "\n",
    "### Verifier sur solidity https://mumbai.polygonscan.com/address/0xe529a6ba0847a2e7e2335fbb29ea2eaa3ee00b85#code"
   ]
  },
  {
   "cell_type": "markdown",
   "metadata": {},
   "source": [
    "# Partie 5"
   ]
  },
  {
   "cell_type": "code",
   "execution_count": null,
   "metadata": {},
   "outputs": [
    {
     "name": "stdout",
     "output_type": "stream",
     "text": [
      "Setup phase\n",
      "----------\n",
      "Toxic waste:\n",
      "α = 2\n",
      "β = 3\n",
      "γ = 4\n",
      "δ = 5\n",
      "τ = 20\n"
     ]
    }
   ],
   "source": [
    "print(\"Setup phase\")\n",
    "print(\"-\"*10)\n",
    "print(\"Toxic waste:\")\n",
    "alpha = FP(2)\n",
    "beta = FP(3)\n",
    "gamma = FP(4)\n",
    "delta = FP(5)\n",
    "tau = FP(20)\n",
    "\n",
    "print(f\"α = {alpha}\")\n",
    "print(f\"β = {beta}\")\n",
    "print(f\"γ = {gamma}\")\n",
    "print(f\"δ = {delta}\")\n",
    "print(f\"τ = {tau}\")\n",
    "\n",
    "def split_poly(poly):\n",
    "    coef = [int(c) for c in poly.coefficients()]\n",
    "    p1 = coef[-2:]\n",
    "    p2 = coef[:-2] + [0] * 2\n",
    "\n",
    "    return galois.Poly(p1, field=FP), galois.Poly(p2, field=FP)\n",
    "\n",
    "u = U(tau)\n",
    "v = V(tau)\n",
    "ht = H(tau)*T_tau\n",
    "\n",
    "U1, U2 = split_poly(U)\n",
    "V1, V2 = split_poly(V)\n",
    "W1, W2 = split_poly(W)\n",
    "\n",
    "w1 = W1(tau)\n",
    "w2 = W2(tau)\n",
    "\n",
    "u1 = U1(tau)\n",
    "u2 = U2(tau)\n",
    "\n",
    "v1 = V1(tau)\n",
    "v2 = V2(tau)\n",
    "\n",
    "c = (beta * u2 + alpha * v2 + w2) * delta**-1 + ht * delta**-1\n",
    "k = (beta * u1 + alpha * v1 + w1) * gamma**-1\n",
    "\n",
    "a = u + alpha\n",
    "b = v + beta\n",
    "\n",
    "assert a * b == alpha * beta + k * gamma + c * delta # should be equal."
   ]
  },
  {
   "cell_type": "code",
   "execution_count": null,
   "metadata": {},
   "outputs": [
    {
     "name": "stdout",
     "output_type": "stream",
     "text": [
      "Setup phase\n",
      "----------\n",
      "Toxic waste:\n",
      "α = 2\n",
      "β = 3\n",
      "γ = 4\n",
      "δ = 5\n",
      "τ = 20\n",
      "Trusted setup:\n",
      "----------\n",
      "[α]G1 = (1368015179489954701390400359078579693043519447331113978918064868415326638035, 9918110051302171585080402603319702774565515993150576347155970296011118125764)\n",
      "[β]G2 = ((2725019753478801796453339367788033689375851816420509565303521482350756874229, 7273165102799931111715871471550377909735733521218303035754523677688038059653), (2512659008974376214222774206987427162027254181373325676825515531566330959255, 957874124722006818841961785324909313781880061366718538693995380805373202866))\n"
     ]
    },
    {
     "ename": "NameError",
     "evalue": "name 'gamma_G2' is not defined",
     "output_type": "error",
     "traceback": [
      "\u001b[1;31m---------------------------------------------------------------------------\u001b[0m",
      "\u001b[1;31mNameError\u001b[0m                                 Traceback (most recent call last)",
      "\u001b[1;32mc:\\Users\\bapti\\Desktop\\ZKP-research\\First-ZkSNARK\\test-GF-lagrange.ipynb Cell 27\u001b[0m line \u001b[0;36m3\n\u001b[0;32m     <a href='vscode-notebook-cell:/c%3A/Users/bapti/Desktop/ZKP-research/First-ZkSNARK/test-GF-lagrange.ipynb#X35sZmlsZQ%3D%3D?line=29'>30</a>\u001b[0m \u001b[39mprint\u001b[39m(\u001b[39mf\u001b[39m\u001b[39m\"\u001b[39m\u001b[39m[α]G1 = \u001b[39m\u001b[39m{\u001b[39;00mnormalize(alpha_G1)\u001b[39m}\u001b[39;00m\u001b[39m\"\u001b[39m)\n\u001b[0;32m     <a href='vscode-notebook-cell:/c%3A/Users/bapti/Desktop/ZKP-research/First-ZkSNARK/test-GF-lagrange.ipynb#X35sZmlsZQ%3D%3D?line=30'>31</a>\u001b[0m \u001b[39mprint\u001b[39m(\u001b[39mf\u001b[39m\u001b[39m\"\u001b[39m\u001b[39m[β]G2 = \u001b[39m\u001b[39m{\u001b[39;00mnormalize(beta_G2)\u001b[39m}\u001b[39;00m\u001b[39m\"\u001b[39m)\n\u001b[1;32m---> <a href='vscode-notebook-cell:/c%3A/Users/bapti/Desktop/ZKP-research/First-ZkSNARK/test-GF-lagrange.ipynb#X35sZmlsZQ%3D%3D?line=31'>32</a>\u001b[0m \u001b[39mprint\u001b[39m(\u001b[39mf\u001b[39m\u001b[39m\"\u001b[39m\u001b[39m[γ]G2 = \u001b[39m\u001b[39m{\u001b[39;00mnormalize(gamma_G2)\u001b[39m}\u001b[39;00m\u001b[39m\"\u001b[39m)\n\u001b[0;32m     <a href='vscode-notebook-cell:/c%3A/Users/bapti/Desktop/ZKP-research/First-ZkSNARK/test-GF-lagrange.ipynb#X35sZmlsZQ%3D%3D?line=32'>33</a>\u001b[0m \u001b[39mprint\u001b[39m(\u001b[39mf\u001b[39m\u001b[39m\"\u001b[39m\u001b[39m[δ]G2 = \u001b[39m\u001b[39m{\u001b[39;00mnormalize(delta_G2)\u001b[39m}\u001b[39;00m\u001b[39m\"\u001b[39m)\n\u001b[0;32m     <a href='vscode-notebook-cell:/c%3A/Users/bapti/Desktop/ZKP-research/First-ZkSNARK/test-GF-lagrange.ipynb#X35sZmlsZQ%3D%3D?line=33'>34</a>\u001b[0m \u001b[39mprint\u001b[39m(\u001b[39mf\u001b[39m\u001b[39m\"\u001b[39m\u001b[39m[τ]G1 = \u001b[39m\u001b[39m{\u001b[39;00m[normalize(point)\u001b[39m \u001b[39m\u001b[39mfor\u001b[39;00m\u001b[39m \u001b[39mpoint\u001b[39m \u001b[39m\u001b[39min\u001b[39;00m\u001b[39m \u001b[39mtau_G1]\u001b[39m}\u001b[39;00m\u001b[39m\"\u001b[39m)\n",
      "\u001b[1;31mNameError\u001b[0m: name 'gamma_G2' is not defined"
     ]
    }
   ],
   "source": [
    "print(\"Setup phase\")\n",
    "print(\"-\"*10)\n",
    "print(\"Toxic waste:\")\n",
    "alpha = FP(2)\n",
    "beta = FP(3)\n",
    "gamma = FP(4)\n",
    "delta = FP(5)\n",
    "tau = FP(20)\n",
    "\n",
    "print(f\"α = {alpha}\")\n",
    "print(f\"β = {beta}\")\n",
    "print(f\"γ = {gamma}\")\n",
    "print(f\"δ = {delta}\")\n",
    "print(f\"τ = {tau}\")\n",
    "\n",
    "tau_G1 = [multiply(G1, int(tau**i)) for i in range(0, T.degree)]\n",
    "tau_G2 = [multiply(G2, int(tau**i)) for i in range(0, T.degree)]\n",
    "\n",
    "powers_tauTtau_div_delta = [(tau**i * T_tau) / delta for i in range(0, T.degree - 1)]\n",
    "target_G1 = [multiply(G1, int(pTd)) for pTd in powers_tauTtau_div_delta]\n",
    "\n",
    "assert len(target_G1) == len(H.coefficients()), f\"target_G1 length mismatch! {len(target_G1)} != {len(H.coefficients())}\"\n",
    "\n",
    "K_gamma, K_delta = [k/gamma for k in K_eval[:2]], [k/delta for k in K_eval[2:]]\n",
    "K_gamma_G1 = [multiply(G1, int(k)) for k in K_gamma]\n",
    "K_delta_G1 = [multiply(G1, int(k)) for k in K_delta]\n",
    "\n",
    "print(\"Trusted setup:\")\n",
    "print(\"-\"*10)\n",
    "print(f\"[α]G1 = {normalize(alpha_G1)}\")\n",
    "print(f\"[β]G2 = {normalize(beta_G2)}\")\n",
    "print(f\"[γ]G2 = {normalize(gamma_G2)}\")\n",
    "print(f\"[δ]G2 = {normalize(delta_G2)}\")\n",
    "print(f\"[τ]G1 = {[normalize(point) for point in tau_G1]}\")\n",
    "print(f\"[τ]G2 = {[normalize(point) for point in tau_G2]}\")\n",
    "print(f\"[τT(τ)/δ]G1 = {[normalize(point) for point in target_G1]}\")\n",
    "print(f\"[K/γ]G1 = {[normalize(point) for point in K_gamma_G1]}\")\n",
    "print(f\"[K/δ]G1 = {[normalize(point) for point in K_delta_G1]}\")"
   ]
  },
  {
   "cell_type": "code",
   "execution_count": null,
   "metadata": {},
   "outputs": [],
   "source": [
    "### Prover\n",
    "\n",
    "A_G1 = evaluate_poly(U, tau_G1)\n",
    "A_G1 = add(A_G1, alpha_G1)\n",
    "B_G2 = evaluate_poly(V, tau_G2)\n",
    "B_G2 = add(B_G2, beta_G2)\n",
    "HT_G1 = evaluate_poly(H, target_G1)\n",
    "\n",
    "# [K/δ*w_priv]G1\n",
    "Kw_delta_G1_terms = [multiply(point, int(scaler)) for point, scaler in zip(K_delta_G1, w_priv)]\n",
    "Kw_delta_G1 = Kw_delta_G1_terms[0]\n",
    "for i in range(1, len(Kw_delta_G1_terms)):\n",
    "    Kw_delta_G1 = add(Kw_delta_G1, Kw_delta_G1_terms[i])\n",
    "\n",
    "C_G1 = add(Kw_delta_G1, HT_G1)\n",
    "\n",
    "### Verifier solidity "
   ]
  }
 ],
 "metadata": {
  "kernelspec": {
   "display_name": "Python 3",
   "language": "python",
   "name": "python3"
  },
  "language_info": {
   "codemirror_mode": {
    "name": "ipython",
    "version": 3
   },
   "file_extension": ".py",
   "mimetype": "text/x-python",
   "name": "python",
   "nbconvert_exporter": "python",
   "pygments_lexer": "ipython3",
   "version": "3.10.6"
  }
 },
 "nbformat": 4,
 "nbformat_minor": 2
}
