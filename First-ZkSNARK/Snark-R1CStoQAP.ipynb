{
 "cells": [
  {
   "cell_type": "markdown",
   "metadata": {},
   "source": [
    "\n",
    "# SNARK : Modélisation Simple (R1CS vers QAP)\n",
    "Dans ce notebook, nous explorons le processus de conversion d'une équation polynomiale en un système de contraintes R1CS (Rank 1 Constraint Systems) puis en un QAP (Quadratic Arithmetic Programs). \n",
    "\n",
    "L'exemple donné est celui où Bob souhaite prouver qu'il connaît un secret \\( x \\) tel que \\( x^3+x+5 = 35 \\). Nous allons décomposer cette équation, la modéliser sous forme de circuit arithmétique, puis la convertir en un système R1CS.\n"
   ]
  },
  {
   "cell_type": "code",
   "execution_count": 1,
   "metadata": {},
   "outputs": [],
   "source": [
    "import zktool as zk\n",
    "import numpy as np"
   ]
  },
  {
   "cell_type": "markdown",
   "metadata": {},
   "source": [
    "\n",
    "## Entrée de l'équation\n",
    "Veuillez entrer une équation polynomiale de type \\( x^3 + x + 5 \\). Nous allons ensuite la décomposer et la modéliser sous forme de circuit arithmétique.\n"
   ]
  },
  {
   "cell_type": "code",
   "execution_count": 2,
   "metadata": {},
   "outputs": [],
   "source": [
    "eq_input=input(\"Enter the equation: de type x^3 + x + 5\") #METTRE DES COEFFICIENTS >=0, aucune negatif pour l'instant"
   ]
  },
  {
   "cell_type": "markdown",
   "metadata": {},
   "source": [
    "\n",
    "## Décomposition de l'équation et Modélisation des Circuits Arithmétiques\n",
    "Une fois que nous avons l'équation, nous pouvons la décomposer en termes individuels et la représenter sous forme de circuit arithmétique. Le résultat ci-dessous montre cette représentation.\n"
   ]
  },
  {
   "cell_type": "code",
   "execution_count": 3,
   "metadata": {},
   "outputs": [
    {
     "name": "stdout",
     "output_type": "stream",
     "text": [
      "Modelisation des circuits arithmetiques :\n",
      "power_1 = x * x\n",
      "power_2 = power_1 * x\n",
      "equation_3 = power_2 + x\n",
      "equation_4 = equation_3 + 5\n",
      "\n",
      "Ensemble des varibles = {'power_2', 'x', 'power_1', 'equation_3', 'equation_4', '1'}\n"
     ]
    }
   ],
   "source": [
    "equations = zk.decompose_polynomial(eq_input)\n",
    "unique_words = zk.get_unique_words(equations)\n",
    "\n",
    "print(\"Modelisation des circuits arithmetiques :\")\n",
    "for eq in equations:\n",
    "    print(eq)\n",
    "\n",
    "\n",
    "print(\"\\nEnsemble des varibles =\",unique_words)\n"
   ]
  },
  {
   "cell_type": "markdown",
   "metadata": {},
   "source": [
    "\n",
    "## Conversion du Circuit en R1CS\n",
    "Le système R1CS (Rank 1 Constraint Systems) est une façon de représenter un ensemble de contraintes sous forme de matrices. Pour chaque équation du circuit, nous allons créer trois vecteurs associés (un pour chaque matrice A, B, C) qui représentent cette équation dans le système R1CS.\n"
   ]
  },
  {
   "cell_type": "code",
   "execution_count": 4,
   "metadata": {},
   "outputs": [
    {
     "name": "stdout",
     "output_type": "stream",
     "text": [
      "power_1 = x * x\n",
      "power_2 = power_1 * x\n",
      "equation_3 = power_2 + x\n",
      "equation_4 = equation_3 + 5\n",
      " \n",
      "['power_2', 'x', 'power_1', 'equation_3', 'equation_4', '1']\n",
      " \n",
      "A=\n",
      "[0, 1, 0, 0, 0, 0]\n",
      "[0, 0, 1, 0, 0, 0]\n",
      "[1, 1, 0, 0, 0, 0]\n",
      "[0, 0, 0, 1, 0, 5]\n",
      " \n",
      "B=\n",
      "[0, 1, 0, 0, 0, 0]\n",
      "[0, 1, 0, 0, 0, 0]\n",
      "[0, 0, 0, 0, 0, 1]\n",
      "[0, 0, 0, 0, 0, 1]\n",
      " \n",
      "C=\n",
      "[0, 0, 1, 0, 0, 0]\n",
      "[1, 0, 0, 0, 0, 0]\n",
      "[0, 0, 0, 1, 0, 0]\n",
      "[0, 0, 0, 0, 1, 0]\n",
      " \n"
     ]
    }
   ],
   "source": [
    "#création des 3 matrice vides A B C\n",
    "A= []\n",
    "B= []\n",
    "C= []\n",
    "\n",
    "for eq in equations:\n",
    "    print(eq)\n",
    "print(\" \")\n",
    "\n",
    "ref_array=list(unique_words)\n",
    "print(ref_array)\n",
    "print(' ')\n",
    "\n",
    "for eq in equations:\n",
    "    eq_split=eq.split()\n",
    "    #print(eq_split)\n",
    "\n",
    "    if eq_split[3]=='*':\n",
    "        vecta=zk.get_position_vector(list(unique_words), eq_split[2])\n",
    "        A.append(vecta)\n",
    "        vectb=zk.get_position_vector(list(unique_words), eq_split[4])\n",
    "        B.append(vectb)\n",
    "        vectc=zk.get_position_vector(list(unique_words), eq_split[0])\n",
    "        C.append(vectc)\n",
    "\n",
    "    if eq_split[3]=='+':\n",
    "        vecta=zk.get_position_vector(list(unique_words), [eq_split[2],eq_split[4]])\n",
    "        A.append(vecta)\n",
    "        vectb=zk.get_position_vector(list(unique_words), \"1\")\n",
    "        B.append(vectb)\n",
    "        vectc=zk.get_position_vector(list(unique_words), eq_split[0])\n",
    "        C.append(vectc)\n",
    "        \n",
    "print(\"A=\")\n",
    "for ligne in A:\n",
    "    print(ligne)\n",
    "print(\" \")\n",
    "\n",
    "print(\"B=\")\n",
    "for ligne in B:\n",
    "    print(ligne)\n",
    "print(\" \")\n",
    "\n",
    "print(\"C=\")\n",
    "for ligne in C:\n",
    "    print(ligne)\n",
    "print(\" \")"
   ]
  },
  {
   "cell_type": "markdown",
   "metadata": {},
   "source": [
    "## Conversion R1CS en QAP"
   ]
  },
  {
   "cell_type": "code",
   "execution_count": 5,
   "metadata": {},
   "outputs": [
    {
     "name": "stdout",
     "output_type": "stream",
     "text": [
      "[ -0.66666667   5.         -11.33333333   8.        ]\n",
      "vaut ce polynome -0.6667x^3 + 5.x^2 - 11.33333333*x^1 + 8\n",
      "\n",
      "PolyA:\n",
      " [[ -0.5          3.5         -7.           4.        ]\n",
      " [ -0.66666667   5.         -11.33333333   8.        ]\n",
      " [  0.5         -4.           9.5         -6.        ]\n",
      " [  0.16666667  -1.           1.83333333  -1.        ]\n",
      " [  0.           0.           0.           0.        ]\n",
      " [  0.83333333  -5.           9.16666667  -5.        ]]\n",
      "\n",
      "PolyB:\n",
      " [[ 0.          0.          0.          0.        ]\n",
      " [ 0.33333333 -2.5         5.16666667 -2.        ]\n",
      " [ 0.          0.          0.          0.        ]\n",
      " [ 0.          0.          0.          0.        ]\n",
      " [ 0.          0.          0.          0.        ]\n",
      " [-0.33333333  2.5        -5.16666667  3.        ]]\n",
      "\n",
      "PolyC:\n",
      " [[ 0.5        -4.          9.5        -6.        ]\n",
      " [ 0.          0.          0.          0.        ]\n",
      " [-0.16666667  1.5        -4.33333333  4.        ]\n",
      " [-0.5         3.5        -7.          4.        ]\n",
      " [ 0.16666667 -1.          1.83333333 -1.        ]\n",
      " [ 0.          0.          0.          0.        ]]\n"
     ]
    }
   ],
   "source": [
    "#Ici on cherche les coefficients des polynomes de chaque matrice\n",
    "\n",
    "A=np.array(A)\n",
    "B=np.array(B)\n",
    "C=np.array(C)\n",
    "\n",
    "# Convert matrices to their transpose for calculations\n",
    "At, Bt, Ct = A.transpose(), B.transpose(), C.transpose()\n",
    "\n",
    "# Calculate polynomial coefficient matrices\n",
    "PolyA = zk.interpolate_and_get_coeff_matrix(At)\n",
    "PolyB = zk.interpolate_and_get_coeff_matrix(Bt)\n",
    "PolyC = zk.interpolate_and_get_coeff_matrix(Ct)\n",
    "\n",
    "#print exemple\n",
    "print(\"[ -0.66666667   5.         -11.33333333   8.        ]\")\n",
    "print(\"vaut ce polynome -0.6667x^3 + 5.x^2 - 11.33333333*x^1 + 8\\n\")\n",
    "\n",
    "\n",
    "# Print the results\n",
    "print(\"PolyA:\\n\", PolyA)\n",
    "print(\"\\nPolyB:\\n\", PolyB)\n",
    "print(\"\\nPolyC:\\n\", PolyC)\n"
   ]
  },
  {
   "cell_type": "markdown",
   "metadata": {},
   "source": [
    "## Calcul de la preuve"
   ]
  },
  {
   "cell_type": "code",
   "execution_count": 6,
   "metadata": {},
   "outputs": [
    {
     "name": "stdout",
     "output_type": "stream",
     "text": [
      "power_1 = 9\n",
      "power_2 = 27\n",
      "equation_3 = 30\n",
      "equation_4 = 35\n",
      "\n",
      "Solution Vector: [27, 3, 9, 30, 35, 1]\n"
     ]
    }
   ],
   "source": [
    "values = {\"x\": 3}\n",
    "\n",
    "S = zk.compute_solution_vector(unique_words, equations, values)\n",
    "print(\"\\nSolution Vector:\", S)\n",
    "\n",
    "# S=[3, 1, 9, 34, 27, 30] #A décommenter pour tester la vérification de la solution fausse\n"
   ]
  },
  {
   "cell_type": "markdown",
   "metadata": {},
   "source": [
    "-Imaginions si le prouver ne connait pas la solution, il va donner un x qui ne correspond pas à out. Ici x=3 donc la fonction zk.compute_solution_vector va forcement calculer la bonne sortie 35 => Solution Vector: [3, 1, 9, 35, 27, 30].\n",
    "\n",
    "-Si on veut tester un prouver qui ne connait pas le solution on peux changer manuellement S = [3, 1, 9, **34**, 27, 30]. Maintenant il suffit d'aller voir la fin du programme pour voir si le verifier approuve ou non la preuve."
   ]
  },
  {
   "cell_type": "code",
   "execution_count": 7,
   "metadata": {},
   "outputs": [
    {
     "name": "stdout",
     "output_type": "stream",
     "text": [
      "A.S = [ 43.         -73.33333333  38.5         -5.16666667]\n",
      "B.S = [-3.         10.33333333 -5.          0.66666667]\n",
      "C.S = [-41.          71.66666667 -24.5          2.83333333]\n",
      "T = [  -88.           592.66666667 -1063.77777778   805.83333333\n",
      "  -294.77777778    51.5           -3.44444444]\n"
     ]
    }
   ],
   "source": [
    "#Ici on chercher trouver le polynome T qui repond à tous les polynomes de la matrice A;B;C\n",
    "result_AS = zk.polynomial_dot_product(PolyA, S)\n",
    "result_BS = zk.polynomial_dot_product(PolyB, S)\n",
    "result_CS = zk.polynomial_dot_product(PolyC, S)\n",
    "\n",
    "print(\"A.S =\", result_AS)\n",
    "print(\"B.S =\", result_BS)\n",
    "print(\"C.S =\", result_CS)\n",
    "\n",
    "# Calcul de la convolution\n",
    "convolution_product = np.convolve(result_AS, result_BS)\n",
    "\n",
    "# Calcul de T\n",
    "T = convolution_product - np.concatenate((result_CS, np.zeros(len(convolution_product) - len(result_CS))))\n",
    "\n",
    "print(\"T =\", T)\n"
   ]
  },
  {
   "cell_type": "code",
   "execution_count": 8,
   "metadata": {},
   "outputs": [
    {
     "name": "stdout",
     "output_type": "stream",
     "text": [
      "Z = [ 24 -50  35 -10   1]\n"
     ]
    }
   ],
   "source": [
    "# Z est le diviseur de T pour verifier s'il y a un reste ou non\n",
    "Z = zk.polynomial_coefficients(len(equations))\n",
    "print(\"Z =\", Z)"
   ]
  },
  {
   "cell_type": "code",
   "execution_count": 9,
   "metadata": {},
   "outputs": [
    {
     "name": "stdout",
     "output_type": "stream",
     "text": [
      "h = T / Z = [-3.66666667 17.05555556 -3.44444444]\n",
      "R = T % Z = [-1.77635684e-15]\n",
      "La preuve est bonne\n"
     ]
    }
   ],
   "source": [
    "quotient,remainder=zk.polynomial_division(T, Z)\n",
    "\n",
    "# Imprimer le quotient\n",
    "print(f\"h = T / Z = {quotient}\")\n",
    "print(f\"R = T % Z = {remainder}\")\n",
    "\n",
    "# Vérifiez si le reste est nul\n",
    "if not zk.is_remainder_close_to_zero(remainder, 1e-5):\n",
    "    print(\"La preuve est refutée !\")\n",
    "else:\n",
    "    print(\"La preuve est bonne\")"
   ]
  }
 ],
 "metadata": {
  "kernelspec": {
   "display_name": "Python 3",
   "language": "python",
   "name": "python3"
  },
  "language_info": {
   "codemirror_mode": {
    "name": "ipython",
    "version": 3
   },
   "file_extension": ".py",
   "mimetype": "text/x-python",
   "name": "python",
   "nbconvert_exporter": "python",
   "pygments_lexer": "ipython3",
   "version": "3.10.6"
  }
 },
 "nbformat": 4,
 "nbformat_minor": 2
}
