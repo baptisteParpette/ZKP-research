{
 "cells": [
  {
   "cell_type": "markdown",
   "metadata": {},
   "source": [
    "\n",
    "# SNARK : Modélisation Simple (R1CS vers QAP)\n",
    "Dans ce notebook, nous explorons le processus de conversion d'une équation polynomiale en un système de contraintes R1CS (Rank 1 Constraint Systems) puis en un QAP (Quadratic Arithmetic Programs). \n",
    "\n",
    "L'exemple donné est celui où Bob souhaite prouver qu'il connaît un secret \\( x \\) tel que \\( x^3+x+5 = 35 \\). Nous allons décomposer cette équation, la modéliser sous forme de circuit arithmétique, puis la convertir en un système R1CS.\n"
   ]
  },
  {
   "cell_type": "code",
   "execution_count": 109,
   "metadata": {},
   "outputs": [],
   "source": [
    "import zktool as zk\n",
    "import numpy as np"
   ]
  },
  {
   "cell_type": "markdown",
   "metadata": {},
   "source": [
    "\n",
    "## Entrée de l'équation\n",
    "Veuillez entrer une équation polynomiale de type \\( x^3 + x + 5 \\). Nous allons ensuite la décomposer et la modéliser sous forme de circuit arithmétique.\n"
   ]
  },
  {
   "cell_type": "code",
   "execution_count": 110,
   "metadata": {},
   "outputs": [],
   "source": [
    "eq_input=input(\"Enter the equation: de type x^3 + x + 5\") #METTRE DES COEFFICIENTS >=0, aucune negatif pour l'instant"
   ]
  },
  {
   "cell_type": "markdown",
   "metadata": {},
   "source": [
    "\n",
    "## Décomposition de l'équation et Modélisation des Circuits Arithmétiques\n",
    "Une fois que nous avons l'équation, nous pouvons la décomposer en termes individuels et la représenter sous forme de circuit arithmétique. Le résultat ci-dessous montre cette représentation.\n"
   ]
  },
  {
   "cell_type": "code",
   "execution_count": 111,
   "metadata": {},
   "outputs": [
    {
     "name": "stdout",
     "output_type": "stream",
     "text": [
      "Modelisation des circuits arithmetiques :\n",
      "power_1 = -3 * x\n",
      "equation_2 =  + power_1\n",
      "equation_3 = equation_2 + 6\n",
      "\n",
      "Ensemble des varibles = {'equation_2', 'x', '1', 'power_1', 'equation_3'}\n"
     ]
    }
   ],
   "source": [
    "equations = zk.decompose_polynomial(eq_input)\n",
    "unique_words = zk.get_unique_words(equations)\n",
    "\n",
    "print(\"Modelisation des circuits arithmetiques :\")\n",
    "for eq in equations:\n",
    "    print(eq)\n",
    "\n",
    "\n",
    "print(\"\\nEnsemble des varibles =\",unique_words)\n"
   ]
  },
  {
   "cell_type": "markdown",
   "metadata": {},
   "source": [
    "\n",
    "## Conversion du Circuit en R1CS\n",
    "Le système R1CS (Rank 1 Constraint Systems) est une façon de représenter un ensemble de contraintes sous forme de matrices. Pour chaque équation du circuit, nous allons créer trois vecteurs associés (un pour chaque matrice A, B, C) qui représentent cette équation dans le système R1CS.\n"
   ]
  },
  {
   "cell_type": "code",
   "execution_count": 112,
   "metadata": {},
   "outputs": [
    {
     "name": "stdout",
     "output_type": "stream",
     "text": [
      "power_1 = -3 * x\n",
      "equation_2 =  + power_1\n",
      "equation_3 = equation_2 + 6\n",
      " \n",
      "['equation_2', 'x', '1', 'power_1', 'equation_3']\n",
      " \n",
      "A=\n",
      "[0, 0, -3, 0, 0]\n",
      "[1, 0, 6, 0, 0]\n",
      " \n",
      "B=\n",
      "[0, 1, 0, 0, 0]\n",
      "[0, 0, 1, 0, 0]\n",
      " \n",
      "C=\n",
      "[0, 0, 0, 1, 0]\n",
      "[0, 0, 0, 0, 1]\n",
      " \n"
     ]
    }
   ],
   "source": [
    "#création des 3 matrice vides A B C\n",
    "A= []\n",
    "B= []\n",
    "C= []\n",
    "\n",
    "for eq in equations:\n",
    "    print(eq)\n",
    "print(\" \")\n",
    "\n",
    "ref_array=list(unique_words)\n",
    "print(ref_array)\n",
    "print(' ')\n",
    "\n",
    "for eq in equations:\n",
    "    eq_split=eq.split()\n",
    "    #print(eq_split)\n",
    "\n",
    "    if eq_split[3]=='*':\n",
    "        vecta=zk.get_position_vector(list(unique_words), eq_split[2])\n",
    "        A.append(vecta)\n",
    "        vectb=zk.get_position_vector(list(unique_words), eq_split[4])\n",
    "        B.append(vectb)\n",
    "        vectc=zk.get_position_vector(list(unique_words), eq_split[0])\n",
    "        C.append(vectc)\n",
    "\n",
    "    if eq_split[3]=='+':\n",
    "        vecta=zk.get_position_vector(list(unique_words), [eq_split[2],eq_split[4]])\n",
    "        A.append(vecta)\n",
    "        vectb=zk.get_position_vector(list(unique_words), \"1\")\n",
    "        B.append(vectb)\n",
    "        vectc=zk.get_position_vector(list(unique_words), eq_split[0])\n",
    "        C.append(vectc)\n",
    "        \n",
    "print(\"A=\")\n",
    "for ligne in A:\n",
    "    print(ligne)\n",
    "print(\" \")\n",
    "\n",
    "print(\"B=\")\n",
    "for ligne in B:\n",
    "    print(ligne)\n",
    "print(\" \")\n",
    "\n",
    "print(\"C=\")\n",
    "for ligne in C:\n",
    "    print(ligne)\n",
    "print(\" \")"
   ]
  },
  {
   "cell_type": "markdown",
   "metadata": {},
   "source": [
    "## Conversion R1CS en QAP"
   ]
  },
  {
   "cell_type": "code",
   "execution_count": 113,
   "metadata": {},
   "outputs": [
    {
     "name": "stdout",
     "output_type": "stream",
     "text": [
      "[ -0.66666667   5.         -11.33333333   8.        ]\n",
      "vaut ce polynome -0.6667x^3 + 5.x^2 - 11.33333333*x^1 + 8\n",
      "\n",
      "PolyA:\n",
      " [[  1.  -1.]\n",
      " [  0.   0.]\n",
      " [  9. -12.]\n",
      " [  0.   0.]\n",
      " [  0.   0.]]\n",
      "\n",
      "PolyB:\n",
      " [[ 0.  0.]\n",
      " [-1.  2.]\n",
      " [ 1. -1.]\n",
      " [ 0.  0.]\n",
      " [ 0.  0.]]\n",
      "\n",
      "PolyC:\n",
      " [[ 0.  0.]\n",
      " [ 0.  0.]\n",
      " [ 0.  0.]\n",
      " [-1.  2.]\n",
      " [ 1. -1.]]\n"
     ]
    }
   ],
   "source": [
    "#Ici on cherche les coefficients des polynomes de chaque matrice\n",
    "\n",
    "A=np.array(A)\n",
    "B=np.array(B)\n",
    "C=np.array(C)\n",
    "\n",
    "# Convert matrices to their transpose for calculations\n",
    "At, Bt, Ct = A.transpose(), B.transpose(), C.transpose()\n",
    "\n",
    "# Calculate polynomial coefficient matrices\n",
    "PolyA = zk.interpolate_and_get_coeff_matrix(At)\n",
    "PolyB = zk.interpolate_and_get_coeff_matrix(Bt)\n",
    "PolyC = zk.interpolate_and_get_coeff_matrix(Ct)\n",
    "\n",
    "#print exemple\n",
    "print(\"[ -0.66666667   5.         -11.33333333   8.        ]\")\n",
    "print(\"vaut ce polynome -0.6667x^3 + 5.x^2 - 11.33333333*x^1 + 8\\n\")\n",
    "\n",
    "\n",
    "# Print the results\n",
    "print(\"PolyA:\\n\", PolyA)\n",
    "print(\"\\nPolyB:\\n\", PolyB)\n",
    "print(\"\\nPolyC:\\n\", PolyC)\n"
   ]
  },
  {
   "cell_type": "markdown",
   "metadata": {},
   "source": [
    "## Calcul de la preuve"
   ]
  },
  {
   "cell_type": "code",
   "execution_count": 114,
   "metadata": {},
   "outputs": [
    {
     "name": "stdout",
     "output_type": "stream",
     "text": [
      "power_1 remains unresolved.\n"
     ]
    },
    {
     "ename": "IndexError",
     "evalue": "list index out of range",
     "output_type": "error",
     "traceback": [
      "\u001b[1;31m---------------------------------------------------------------------------\u001b[0m",
      "\u001b[1;31mIndexError\u001b[0m                                Traceback (most recent call last)",
      "\u001b[1;32mc:\\Users\\bapti\\Desktop\\ZKP-research\\First-ZkSNARK\\Snark-R1CStoQAP.ipynb Cell 12\u001b[0m line \u001b[0;36m3\n\u001b[0;32m      <a href='vscode-notebook-cell:/c%3A/Users/bapti/Desktop/ZKP-research/First-ZkSNARK/Snark-R1CStoQAP.ipynb#X12sZmlsZQ%3D%3D?line=0'>1</a>\u001b[0m values \u001b[39m=\u001b[39m {\u001b[39m\"\u001b[39m\u001b[39mx\u001b[39m\u001b[39m\"\u001b[39m: \u001b[39m3\u001b[39m}\n\u001b[1;32m----> <a href='vscode-notebook-cell:/c%3A/Users/bapti/Desktop/ZKP-research/First-ZkSNARK/Snark-R1CStoQAP.ipynb#X12sZmlsZQ%3D%3D?line=2'>3</a>\u001b[0m S \u001b[39m=\u001b[39m zk\u001b[39m.\u001b[39;49mcompute_solution_vector(unique_words, equations, values)\n\u001b[0;32m      <a href='vscode-notebook-cell:/c%3A/Users/bapti/Desktop/ZKP-research/First-ZkSNARK/Snark-R1CStoQAP.ipynb#X12sZmlsZQ%3D%3D?line=3'>4</a>\u001b[0m \u001b[39mprint\u001b[39m(\u001b[39m\"\u001b[39m\u001b[39m\\n\u001b[39;00m\u001b[39mSolution Vector:\u001b[39m\u001b[39m\"\u001b[39m, S)\n\u001b[0;32m      <a href='vscode-notebook-cell:/c%3A/Users/bapti/Desktop/ZKP-research/First-ZkSNARK/Snark-R1CStoQAP.ipynb#X12sZmlsZQ%3D%3D?line=5'>6</a>\u001b[0m \u001b[39m# S=[3, 1, 9, 34, 27, 30] #A décommenter pour tester la vérification de la solution fausse\u001b[39;00m\n",
      "File \u001b[1;32mc:\\Users\\bapti\\Desktop\\ZKP-research\\First-ZkSNARK\\zktool.py:185\u001b[0m, in \u001b[0;36mcompute_solution_vector\u001b[1;34m(unique_words, equations, values)\u001b[0m\n\u001b[0;32m    183\u001b[0m lhs, rhs \u001b[39m=\u001b[39m equation\u001b[39m.\u001b[39msplit(\u001b[39m\"\u001b[39m\u001b[39m=\u001b[39m\u001b[39m\"\u001b[39m)\n\u001b[0;32m    184\u001b[0m lhs \u001b[39m=\u001b[39m lhs\u001b[39m.\u001b[39mstrip()\n\u001b[1;32m--> 185\u001b[0m rhs_value \u001b[39m=\u001b[39m evaluate_expression(rhs\u001b[39m.\u001b[39;49mstrip(), values_dict)\n\u001b[0;32m    187\u001b[0m \u001b[39mif\u001b[39;00m \u001b[39mnot\u001b[39;00m \u001b[39misinstance\u001b[39m(rhs_value, \u001b[39mstr\u001b[39m):  \u001b[39m# if the evaluation is successful\u001b[39;00m\n\u001b[0;32m    188\u001b[0m     values_dict[lhs] \u001b[39m=\u001b[39m rhs_value\n",
      "File \u001b[1;32mc:\\Users\\bapti\\Desktop\\ZKP-research\\First-ZkSNARK\\zktool.py:143\u001b[0m, in \u001b[0;36mevaluate_expression\u001b[1;34m(expr, values_dict)\u001b[0m\n\u001b[0;32m    141\u001b[0m left_expr \u001b[39m=\u001b[39m \u001b[39m\"\u001b[39m\u001b[39m \u001b[39m\u001b[39m\"\u001b[39m\u001b[39m.\u001b[39mjoin(terms[:idx])\n\u001b[0;32m    142\u001b[0m right_expr \u001b[39m=\u001b[39m \u001b[39m\"\u001b[39m\u001b[39m \u001b[39m\u001b[39m\"\u001b[39m\u001b[39m.\u001b[39mjoin(terms[idx\u001b[39m+\u001b[39m\u001b[39m1\u001b[39m:])\n\u001b[1;32m--> 143\u001b[0m left_val \u001b[39m=\u001b[39m evaluate_expression(left_expr, values_dict)\n\u001b[0;32m    144\u001b[0m right_val \u001b[39m=\u001b[39m evaluate_expression(right_expr, values_dict)\n\u001b[0;32m    145\u001b[0m \u001b[39mif\u001b[39;00m \u001b[39misinstance\u001b[39m(left_val, \u001b[39mstr\u001b[39m):\n",
      "File \u001b[1;32mc:\\Users\\bapti\\Desktop\\ZKP-research\\First-ZkSNARK\\zktool.py:164\u001b[0m, in \u001b[0;36mevaluate_expression\u001b[1;34m(expr, values_dict)\u001b[0m\n\u001b[0;32m    162\u001b[0m         \u001b[39mreturn\u001b[39;00m left_val \u001b[39m*\u001b[39m right_val\n\u001b[0;32m    163\u001b[0m \u001b[39melse\u001b[39;00m:\n\u001b[1;32m--> 164\u001b[0m     \u001b[39mif\u001b[39;00m terms[\u001b[39m0\u001b[39;49m] \u001b[39min\u001b[39;00m values_dict:\n\u001b[0;32m    165\u001b[0m         \u001b[39mreturn\u001b[39;00m values_dict[terms[\u001b[39m0\u001b[39m]]\n\u001b[0;32m    166\u001b[0m     \u001b[39melif\u001b[39;00m terms[\u001b[39m0\u001b[39m]\u001b[39m.\u001b[39misnumeric():\n",
      "\u001b[1;31mIndexError\u001b[0m: list index out of range"
     ]
    }
   ],
   "source": [
    "values = {\"x\": 3}\n",
    "\n",
    "S = zk.compute_solution_vector(unique_words, equations, values)\n",
    "print(\"\\nSolution Vector:\", S)\n",
    "\n",
    "# S=[3, 1, 9, 34, 27, 30] #A décommenter pour tester la vérification de la solution fausse\n"
   ]
  },
  {
   "cell_type": "markdown",
   "metadata": {},
   "source": [
    "-Imaginions si le prouver ne connait pas la solution, il va donner un x qui ne correspond pas à out. Ici x=3 donc la fonction zk.compute_solution_vector va forcement calculer la bonne sortie 35 => Solution Vector: [3, 1, 9, 35, 27, 30].\n",
    "\n",
    "-Si on veut tester un prouver qui ne connait pas le solution on peux changer manuellement S = [3, 1, 9, **34**, 27, 30]. Maintenant il suffit d'aller voir la fin du programme pour voir si le verifier approuve ou non la preuve."
   ]
  },
  {
   "cell_type": "code",
   "execution_count": null,
   "metadata": {},
   "outputs": [
    {
     "name": "stdout",
     "output_type": "stream",
     "text": [
      "A.S = [-8. 10.]\n",
      "B.S = [ 5. -2.]\n",
      "C.S = [0. 6.]\n",
      "T = [-40.  60. -20.]\n"
     ]
    }
   ],
   "source": [
    "#Ici on chercher trouver le polynome T qui repond à tous les polynomes de la matrice A;B;C\n",
    "result_AS = zk.polynomial_dot_product(PolyA, S)\n",
    "result_BS = zk.polynomial_dot_product(PolyB, S)\n",
    "result_CS = zk.polynomial_dot_product(PolyC, S)\n",
    "\n",
    "print(\"A.S =\", result_AS)\n",
    "print(\"B.S =\", result_BS)\n",
    "print(\"C.S =\", result_CS)\n",
    "\n",
    "# Calcul de la convolution\n",
    "convolution_product = np.convolve(result_AS, result_BS)\n",
    "\n",
    "# Calcul de T\n",
    "T = convolution_product - np.concatenate((result_CS, np.zeros(len(convolution_product) - len(result_CS))))\n",
    "\n",
    "print(\"T =\", T)\n"
   ]
  },
  {
   "cell_type": "code",
   "execution_count": null,
   "metadata": {},
   "outputs": [
    {
     "name": "stdout",
     "output_type": "stream",
     "text": [
      "Z = [ 2 -3  1]\n"
     ]
    }
   ],
   "source": [
    "# Z est le diviseur de T pour verifier s'il y a un reste ou non\n",
    "Z = zk.polynomial_coefficients(len(equations))\n",
    "print(\"Z =\", Z)"
   ]
  },
  {
   "cell_type": "code",
   "execution_count": null,
   "metadata": {},
   "outputs": [
    {
     "name": "stdout",
     "output_type": "stream",
     "text": [
      "h = T / Z = [-20.]\n",
      "R = T % Z = [0.]\n",
      "La preuve est bonne\n"
     ]
    }
   ],
   "source": [
    "quotient,remainder=zk.polynomial_division(T, Z)\n",
    "\n",
    "# Imprimer le quotient\n",
    "print(f\"h = T / Z = {quotient}\")\n",
    "print(f\"R = T % Z = {remainder}\")\n",
    "\n",
    "# Vérifiez si le reste est nul\n",
    "if not zk.is_remainder_close_to_zero(remainder, 1e-5):\n",
    "    print(\"La preuve est refutée !\")\n",
    "else:\n",
    "    print(\"La preuve est bonne\")"
   ]
  }
 ],
 "metadata": {
  "kernelspec": {
   "display_name": "Python 3",
   "language": "python",
   "name": "python3"
  },
  "language_info": {
   "codemirror_mode": {
    "name": "ipython",
    "version": 3
   },
   "file_extension": ".py",
   "mimetype": "text/x-python",
   "name": "python",
   "nbconvert_exporter": "python",
   "pygments_lexer": "ipython3",
   "version": "3.10.6"
  }
 },
 "nbformat": 4,
 "nbformat_minor": 2
}
