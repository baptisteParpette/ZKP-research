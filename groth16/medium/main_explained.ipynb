{
 "cells": [
  {
   "cell_type": "markdown",
   "metadata": {},
   "source": [
    "# Implantation de Groth16 en Python : Un guide pas à pas\n",
    "\n",
    "Nous explorons l'implantation de Groth16 en Python. Il s'agit d'un protocole de preuve à divulgation nulle (zk-SNARK) largement utilisée en cryptographie. L'objectif est de rendre l'implantation facile à comprendre pour tous les développeurs. Le code est proposé sous la forme d'un notebook permettant d'exécuter chaque cellule indépendamment.\n",
    "\n",
    "## Qu'est-ce que Groth16 ?\n",
    "\n",
    "C'est un protocole de la famille zk-SNARK (Ref ?) qui permet de prouver la connaissance d'une solution à un problème sans révéler cette solution. Il est utilisé dans de nombreux domaines, tels que la confidentialité des données, la vérification déléguée et la blockchain. L'implantation de Groth16 en Python nous permet de mieux comprendre son fonctionnement et de l'adapter à nos propres besoins.\n",
    "\n",
    "## Pourquoi utiliser Python ?\n",
    "\n",
    "C'est un langage de programmation populaire et largement utilisé dans le domaine de la science des données et de l'apprentissage automatique. Sa syntaxe simple et expressive en fait un choix idéal pour implémenter des algorithmes complexes tels que Groth16. De plus, la richesse de la bibliothèque standard de Python et la disponibilité de nombreuses bibliothèques tierces en font un outil puissant pour la mise en œuvre de protocoles cryptographiques.\n",
    "\n",
    "## Prérequis\n",
    "\n",
    "Avant de commencer, assurez-vous d'avoir une connaissance de base de Python et des concepts de cryptographie. Nous utilisons certaines bibliothèques Python couramment utilisées en cryptographie, telles que `numpy`, `galois` ou `py_ecc`. Ici, nous n'allons pas expliquer pourquoi groth16 a été conçu de cette façon, mais plutôt comment il fonctionne. Si vous souhaitez en savoir plus sur les détails de conception, consultez le papier scientifique [Groth16](https://eprint.iacr.org/2016/260.pdf) de sont autheur Jens Groth.\n",
    "\n",
    "## Structure de l'article\n",
    "\n",
    "Dans cet article, nous allons suivre une approche pas à pas pour implémenter Groth16 en Python. Nous commençons par importer les bibliothèques nécessaires et définir les paramètres du protocole. Ensuite, nous générerons l'ensemble des données utiles pour les différents composants qui s'échangent de l'information : le trusted setup, le prouver et le verifier. Lorsque nous nous sommes penchés sur ce projet d'implémenté Groth16 en python, nous avons vu qu'il existait quelques ressources sur le web, mais qui ne respectait pas toujours les critères du protocole.\n",
    "\n",
    "## Quelques expliquations\n",
    "\n",
    "Cette implantation est réalisée dans le cadre d'un projet recherche sur les protocoles de preuve à divulgation nulle (zk-SNARK) et leurs applications à la blockchain. Dans un premier temps, nous avons fait un état de l'art des ZKP et nous nous sommes penchés sur groth16. Notre implantation a été réalisée à partir de plusieurs ressources, telles que :\n",
    "- Le papier de Jens Groth (https://medium.com/r/?url=https%3A%2F%2Feprint.iacr.org%2F2016%2F260.pdf)\n",
    "- Les articles de blog de Vitalik: part1(https://medium.com/@VitalikButerin/quadratic-arithmetic-programs-from-zero-to-hero-f6d558cea649), part2(https://medium.com/@VitalikButerin/exploring-elliptic-curve-pairings-c73c1864e627), part3(https://medium.com/@VitalikButerin/zk-snarks-under-the-hood-b33151a013f6). \n",
    "- zkSNARKs: R1CS and QAP(https://medium.com/r/?url=https%3A%2F%2Frisencrypto.github.io%2FzkSnarks%2F)\n",
    "- Under the hood of zkSNARK Groth16 protocol (part 1)(https://medium.com/coinmonks/under-the-hood-of-zksnark-groth16-protocol-part-5-2a958f7051c2)\n",
    "- Zkbook de rareskills(https://medium.com/r/?url=https%3A%2F%2Fwww.rareskills.io%2Fpost%2Fgroth16)\n",
    "\n",
    "# Plan general de l'implantation:\n",
    "\n",
    "L'objectif du protocole est de pouvoir générer une preuve de connaissance sans divulgation d'une solution à un problème NP. Dans notre cas, nous souhaitons prouver que nous connaissons un polynôme quelconque. Pour cela, nous allons suivre les étapes suivantes :\n",
    "\n",
    "// SFR : là sans connaissance préalable c'est difficile de comprendre\n",
    "//       Soit modifier l'intro en disant que le vocabulaire R1CS, QAP, etc doit être connu, \n",
    "//       Soit donner plus d'explications par ici.\n",
    "\n",
    "1- Transformer le polynôme en un circuit arithmétique\n",
    "2- Créer un modèle R1CS à partir du circuit arithmétique\n",
    "3- Générer le modèle QAP à partir du modèle R1CS\n",
    "4- Demander au trusted setup de générer les clés de vérification\n",
    "5- Générer la preuve de connaissance (Prouver)\n",
    "6- Verifier la preuve de connaissance (Vérifier)\n",
    "\n",
    "À savoir que le protocole Groth16 concerne la partie 4,5 et 6. Néanmoins, nous voulions automatiser la modélisation de notre problème sous forme QAP en donnant uniquement un polynôme au début du programme.\n",
    "Voici en une image le workflow de l'implantation :\n",
    "\n",
    "![workflow](src/intro.png)\n",
    "\n",
    "Sur le schéma ci-dessus la partie 1, 2 et 3 sont faites dans le rectangle blanc, c'est ici que l'on définit un polynôme et ensuite le programme détermine les données nécessaires pour le trusted setup, le prover et le vérifier.\n",
    "\n",
    "## Apparter sur les bibliothèques utilisées:\n",
    "\n",
    "Dans ce programme, nous utilisons les bibliothèques numpy et galois pour faire des calculs dans des champs finits et py_ecc pour travailler sur les courbes elliptiques. De plus nous avons programmé nos propres fonctions dans un fichier zktool.py qui est disponible sur GitHub et à la fin de cet article. \n",
    "// SFR : lister ici les fonctions dont tu as besoin"
   ]
  },
  {
   "cell_type": "code",
   "execution_count": 1,
   "metadata": {},
   "outputs": [],
   "source": [
    "import zktool as zk\n",
    "import numpy as np\n",
    "import galois\n",
    "from py_ecc.bn128 import curve_order\n",
    "import galois\n",
    "import numpy as np"
   ]
  },
  {
   "cell_type": "markdown",
   "metadata": {},
   "source": [
    "## Initialisation du corps de Galois\n",
    "\n",
    "Nous devons choisir un corps de Galois fini pour effectuer nos calculs. Nous allons utiliser le corps de Galois fini de la courbe BN128. Pour cela nous allons utiliser la bibliothèque `galois`. Il est important d'utiliser le même corps de Galois fini pour le prouveur et le vérifieur. Ici p=curve_order est l'ordre de la courbe BN128.\n",
    "\n",
    "A noter que le temps d'exécution de la prochaine cellule est long."
   ]
  },
  {
   "cell_type": "code",
   "execution_count": 2,
   "metadata": {},
   "outputs": [],
   "source": [
    "p=curve_order # p=21888242871839275222246405745257275088548364400416034343698204186575808495617\n",
    "GF = galois.GF(p) # Long"
   ]
  },
  {
   "cell_type": "markdown",
   "metadata": {},
   "source": [
    "## Définition du polynome qu'on souhaite prouver\n",
    "\n",
    "Le format de l'équation est le suivant : a_nx^x+a_n-1x^n-1+…+a_1x+a_0\n",
    "Exemple : 2x²+3x+1 Actuellement les coefficients sont des entiers positifs.\n",
    "Voici le fonctionnement de notre fonction `decompose_polynomial()`:\n",
    "\n",
    "![workflow](src/1.png)"
   ]
  },
  {
   "cell_type": "code",
   "execution_count": 3,
   "metadata": {},
   "outputs": [
    {
     "name": "stdout",
     "output_type": "stream",
     "text": [
      "=================== GROTH16 IMPLEMENTATION ===================\n"
     ]
    }
   ],
   "source": [
    "print(\"=================== GROTH16 IMPLEMENTATION ===================\")\n",
    "\n",
    "eq_input = input(\"Enter the equation (ex: x^3 + x + 5):\") \n",
    "print(\"Equation: \", eq_input, \"\\n\")\n",
    "\n",
    "equations, solution_array = zk.decompose_polynomial(eq_input)\n",
    "\n",
    "print(\"Arithmetic circuit modeling:\")\n",
    "for equation in equations:\n",
    "    print(equation)\n",
    "\n",
    "print(\"\\nSet of variables =\", solution_array)"
   ]
  },
  {
   "cell_type": "markdown",
   "metadata": {},
   "source": [
    "## R1CS\n",
    "\n",
    "Pour continuer nous devons utliser le model R1CS. Pour cela nous allons utiliser la bibliothèque `zktool` et la fonction `generate_r1cs` pour générer le model R1CS à partir du circuit arithmétique. Cette fonction prend en paramètre le circuit arithmétique et retourne le model R1CS.\n",
    "![workflow](src/2.png)"
   ]
  },
  {
   "cell_type": "code",
   "execution_count": 4,
   "metadata": {},
   "outputs": [
    {
     "name": "stdout",
     "output_type": "stream",
     "text": [
      "L=\n",
      "[0, 0, 1, 0, 0, 0]\n",
      "[0, 0, 0, 1, 0, 0]\n",
      "[0, 0, 1, 0, 1, 0]\n",
      "[5, 0, 0, 0, 0, 1]\n",
      " \n",
      "R=\n",
      "[0, 0, 1, 0, 0, 0]\n",
      "[0, 0, 1, 0, 0, 0]\n",
      "[1, 0, 0, 0, 0, 0]\n",
      "[1, 0, 0, 0, 0, 0]\n",
      " \n",
      "O=\n",
      "[0, 0, 0, 1, 0, 0]\n",
      "[0, 0, 0, 0, 1, 0]\n",
      "[0, 0, 0, 0, 0, 1]\n",
      "[0, 1, 0, 0, 0, 0]\n",
      " \n"
     ]
    }
   ],
   "source": [
    "L, R, O = zk.generate_r1cs(equations, solution_array)\n",
    "\n",
    "print(\"L=\")\n",
    "for line in L:\n",
    "    print(line)\n",
    "print(\" \")\n",
    "\n",
    "print(\"R=\")\n",
    "for line in R:\n",
    "    print(line)\n",
    "print(\" \")\n",
    "\n",
    "print(\"O=\")\n",
    "for line in O:\n",
    "    print(line)\n",
    "print(\" \")"
   ]
  },
  {
   "cell_type": "markdown",
   "metadata": {},
   "source": [
    "## R1CS to QAP\n",
    "\n",
    "Une fois les matrices du modèle R1CS générées, nous allons les transformer en matrices suivant le modèle QAP. Pour cela, nous allons déterminer les polynômes avec l'interpolation de Lagrange.\n",
    "\n",
    "Voici un exemple pour transformer la matrice L_galois, qui vaut aussi L, car chaque coefficient dans la matrice est déjà compris entre [0,1-p] en U, qui est une matrice de polynômes. Ici, nous avons tronqué les coefficients des polynômes pour avoir un affichage plus clair. \n",
    "![workflow](src/3.png)"
   ]
  },
  {
   "cell_type": "code",
   "execution_count": 5,
   "metadata": {},
   "outputs": [
    {
     "name": "stdout",
     "output_type": "stream",
     "text": [
      "Matrix U:\n",
      "[3648040478639879203707734290876212514758060733402672390616367364429301415937\n",
      " 21888242871839275222246405745257275088548364400416034343698204186575808495612\n",
      " 18240202393199396018538671454381062573790303667013361953081836822146507079690\n",
      " 21888242871839275222246405745257275088548364400416034343698204186575808495612]\n",
      "[0 0 0 0]\n",
      "[14592161914559516814830937163504850059032242933610689562465469457717205663744\n",
      " 5\n",
      " 7296080957279758407415468581752425029516121466805344781232734728858602831861\n",
      " 8]\n",
      "[10944121435919637611123202872628637544274182200208017171849102093287904247809\n",
      " 21888242871839275222246405745257275088548364400416034343698204186575808495613\n",
      " 10944121435919637611123202872628637544274182200208017171849102093287904247818\n",
      " 21888242871839275222246405745257275088548364400416034343698204186575808495611]\n",
      "[10944121435919637611123202872628637544274182200208017171849102093287904247808\n",
      " 10944121435919637611123202872628637544274182200208017171849102093287904247812\n",
      " 21888242871839275222246405745257275088548364400416034343698204186575808495610\n",
      " 4]\n",
      "[18240202393199396018538671454381062573790303667013361953081836822146507079681\n",
      " 21888242871839275222246405745257275088548364400416034343698204186575808495616\n",
      " 3648040478639879203707734290876212514758060733402672390616367364429301415938\n",
      " 21888242871839275222246405745257275088548364400416034343698204186575808495616]\n",
      "\n",
      "Matrix V:\n",
      "[7296080957279758407415468581752425029516121466805344781232734728858602831872\n",
      " 10944121435919637611123202872628637544274182200208017171849102093287904247811\n",
      " 3648040478639879203707734290876212514758060733402672390616367364429301415931\n",
      " 3]\n",
      "[0 0 0 0]\n",
      "[14592161914559516814830937163504850059032242933610689562465469457717205663745\n",
      " 10944121435919637611123202872628637544274182200208017171849102093287904247806\n",
      " 18240202393199396018538671454381062573790303667013361953081836822146507079686\n",
      " 21888242871839275222246405745257275088548364400416034343698204186575808495615]\n",
      "[0 0 0 0]\n",
      "[0 0 0 0]\n",
      "[0 0 0 0]\n",
      "\n",
      "Matrix W:\n",
      "[0 0 0 0]\n",
      "[18240202393199396018538671454381062573790303667013361953081836822146507079681\n",
      " 21888242871839275222246405745257275088548364400416034343698204186575808495616\n",
      " 3648040478639879203707734290876212514758060733402672390616367364429301415938\n",
      " 21888242871839275222246405745257275088548364400416034343698204186575808495616]\n",
      "[0 0 0 0]\n",
      "[3648040478639879203707734290876212514758060733402672390616367364429301415936\n",
      " 10944121435919637611123202872628637544274182200208017171849102093287904247810\n",
      " 7296080957279758407415468581752425029516121466805344781232734728858602831868\n",
      " 4]\n",
      "[10944121435919637611123202872628637544274182200208017171849102093287904247809\n",
      " 21888242871839275222246405745257275088548364400416034343698204186575808495613\n",
      " 10944121435919637611123202872628637544274182200208017171849102093287904247818\n",
      " 21888242871839275222246405745257275088548364400416034343698204186575808495611]\n",
      "[10944121435919637611123202872628637544274182200208017171849102093287904247808\n",
      " 10944121435919637611123202872628637544274182200208017171849102093287904247812\n",
      " 21888242871839275222246405745257275088548364400416034343698204186575808495610\n",
      " 4]\n"
     ]
    }
   ],
   "source": [
    "num_eq = len(L)\n",
    "\n",
    "# Convert the matrices to be convertible in GF (each value is brought between [0, p-1])\n",
    "# Convert the matrices into Galois matrices\n",
    "L_galois = GF(np.array(L) % p)\n",
    "R_galois = GF(np.array(R) % p)\n",
    "O_galois = GF(np.array(O) % p)\n",
    "\n",
    "U = []\n",
    "V = []\n",
    "W = []\n",
    "for i in range(len(solution_array)):\n",
    "    U.append(zk.interpolate_lagrange(L_galois[:, i], GF, num_eq))\n",
    "    V.append(zk.interpolate_lagrange(R_galois[:, i], GF, num_eq))\n",
    "    W.append(zk.interpolate_lagrange(O_galois[:, i], GF, num_eq))\n",
    "\n",
    "print(\"Matrix U:\")\n",
    "for line in U:\n",
    "    print(line)\n",
    "\n",
    "print(\"\\nMatrix V:\")\n",
    "for line in V:\n",
    "    print(line)\n",
    "\n",
    "print(\"\\nMatrix W:\")\n",
    "for line in W:\n",
    "    print(line)"
   ]
  },
  {
   "cell_type": "markdown",
   "metadata": {},
   "source": [
    "## Évalutation en un point\n",
    "\n",
    "On choisit un nombre au hasard dans le corps de Galois fini et on déroule l'ensemble de nos équations pour calculer le vecteur solution. Ici, on prend comme point de départ x=5.\n",
    "\n",
    "zk.compute_solution_vector permet d'évaluer le solution_array avec comme point de départ x=5.\n",
    "\n",
    "![workflow](src/4.png)"
   ]
  },
  {
   "cell_type": "code",
   "execution_count": 6,
   "metadata": {},
   "outputs": [
    {
     "name": "stdout",
     "output_type": "stream",
     "text": [
      "\n",
      "Solution Vector: [1 135 5 25 125 130]\n",
      "Vector with variable ['1', 'out', 'x', 'v1', 'v2', 'v3']\n"
     ]
    }
   ],
   "source": [
    "values = {\"x\": 5}\n",
    "a = zk.compute_solution_vector(solution_array, equations, values)\n",
    "a = np.array(a) % p\n",
    "\n",
    "print(\"\\nSolution Vector:\", a)\n",
    "print(\"Vector with variable\", solution_array)"
   ]
  },
  {
   "cell_type": "markdown",
   "metadata": {},
   "source": [
    "## Application de groth16\n",
    "\n",
    "Maintenant que nous avons toutes les données nécessaires nous pouvons appliquer groth16, c'est à dire notre vecteur solution évalué en un point et notre model QAP. On peut transmettre nos matrices à la fonction `generate_trusted_setup` de la bibliothèque `zktool` pour générer les clés de vérification. Cette fonction prend en paramètre les matrices du model QAP et retourne les clés de vérification.\n",
    "\n",
    "![workflow](src/5.png)\n",
    "\n",
    "Ensuite nous pouvons utiliser la fonction `generate_proof` de la bibliothèque `zktool` pour générer la preuve de connaissance. Cette fonction prend en paramètre les clés de vérification, le vecteur solution évalué en un point et le model QAP. Elle retourne la preuve de connaissance.\n",
    "\n",
    "![workflow](src/6.png)\n",
    "\n",
    "Et enfin, nous pouvons utiliser la fonction `verify_proof` de la bibliothèque `zktool` pour vérifier la preuve de connaissance. Cette fonction prend en paramètre les clés de vérification, le vecteur solution évalué en un point, le model QAP et la preuve de connaissance. Elle retourne un booléen indiquant si la preuve de connaissance est valide ou non.\n",
    "\n",
    "![workflow](src/7.png)"
   ]
  },
  {
   "cell_type": "code",
   "execution_count": 7,
   "metadata": {},
   "outputs": [
    {
     "name": "stdout",
     "output_type": "stream",
     "text": [
      "x =  75\n",
      "alpha =  2\n",
      "beta =  3\n",
      "gamma =  5\n",
      "delta =  11\n",
      "\n",
      "============= Prover =============\n",
      "A_1= (5007602948002553469188036854420775706275968160992803697339877036351367343682, 18416552614392113266381640926605678220410225438237484861022484597644638788899)\n",
      "B_2= ((13235053251753173958467675402624206475371210159860213279280275675358774651412, 19636830560278721114685701923125581805643832425963538909810871648303095584480), (2844054701750252050655405984433178353653775737812896814285685839499536073112, 6271240352858791095865723664896546107464021415293552513864711282796755706530))\n",
      "C_1= (15651873788416093060218677531124579982017950547248813017969348280099555404525, 21692469522036355297773783805225131010452868703025703788025072291105621548540)\n",
      "\n",
      "============= Verifier =============\n",
      "True\n"
     ]
    }
   ],
   "source": [
    "zk.init(GF)\n",
    "\n",
    "U = np.array(U)\n",
    "V = np.array(V)\n",
    "W = np.array(W)\n",
    "\n",
    "a = GF(a)\n",
    "l = 1 # Publicly provide the first 2 elements of a, the rest is private\n",
    "sigma_1, sigma_2 = zk.trusted_setup(U, V, W, l)\n",
    "pi = zk.prover(U, V, W, l, sigma_1, sigma_2, a)\n",
    "isTrue = zk.verifier(pi, a, sigma_2, sigma_1, l)\n",
    "print(isTrue)"
   ]
  }
 ],
 "metadata": {
  "kernelspec": {
   "display_name": "Python 3",
   "language": "python",
   "name": "python3"
  },
  "language_info": {
   "codemirror_mode": {
    "name": "ipython",
    "version": 3
   },
   "file_extension": ".py",
   "mimetype": "text/x-python",
   "name": "python",
   "nbconvert_exporter": "python",
   "pygments_lexer": "ipython3",
   "version": "3.11.6"
  }
 },
 "nbformat": 4,
 "nbformat_minor": 2
}
