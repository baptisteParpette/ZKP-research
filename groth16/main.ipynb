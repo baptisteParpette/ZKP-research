{
 "cells": [
  {
   "cell_type": "code",
   "execution_count": 1,
   "metadata": {},
   "outputs": [
    {
     "name": "stdout",
     "output_type": "stream",
     "text": [
      "w = [ 1 33  2  3  4  9 40  2]\n",
      "Lw = [2 3 4 9 9]\n",
      "Rw = [ 2  3 10 16 26]\n",
      "Lw * Rw = [ 4  9 40  2 21]\n",
      "Ow =      [ 4  9 40  2 21]\n"
     ]
    }
   ],
   "source": [
    "import galois\n",
    "import numpy as np\n",
    "\n",
    "p = 71 # Pour tester car sinon c'est long et iliisible\n",
    "# p = 21888242871839275222246405745257275088548364400416034343698204186575808495617\n",
    "FP = galois.GF(p)\n",
    "\n",
    "# input arguments\n",
    "x = FP(2)\n",
    "y = FP(3)\n",
    "\n",
    "v1 = x * x\n",
    "v2 = y * y\n",
    "v3 = 5 * x * v1\n",
    "v4 = 4 * v1 * v2\n",
    "out = 5*x**3 - 4*x**2*y**2 + 13*x*y**2 + x**2 - 10*y\n",
    "\n",
    "w = FP([1, out, x, y, v1, v2, v3, v4])\n",
    "\n",
    "print(\"w =\", w)\n",
    "\n",
    "R = FP([[0, 0, 1, 0, 0, 0, 0, 0],\n",
    "         [0, 0, 0, 1, 0, 0, 0, 0],\n",
    "         [0, 0, 5, 0, 0, 0, 0, 0],\n",
    "         [0, 0, 0, 0, 4, 0, 0, 0],\n",
    "         [0, 0, 13, 0, 0, 0, 0, 0]])\n",
    "\n",
    "L = FP([[0, 0, 1, 0, 0, 0, 0, 0],\n",
    "         [0, 0, 0, 1, 0, 0, 0, 0],\n",
    "         [0, 0, 0, 0, 1, 0, 0, 0],\n",
    "         [0, 0, 0, 0, 0, 1, 0, 0],\n",
    "         [0, 0, 0, 0, 0, 1, 0, 0]])\n",
    "\n",
    "O = FP([[0, 0, 0, 0, 1, 0, 0, 0],\n",
    "         [0, 0, 0, 0, 0, 1, 0, 0],\n",
    "         [0, 0, 0, 0, 0, 0, 1, 0],\n",
    "         [0, 0, 0, 0, 0, 0, 0, 1],\n",
    "         [0, 1, 0, 10, FP(p - 1), 0, FP(p - 1), 1]])\n",
    "\n",
    "Lw = np.dot(L, w)\n",
    "Rw = np.dot(R, w)\n",
    "Ow = np.dot(O, w)\n",
    "\n",
    "print(\"Lw =\", Lw)\n",
    "print(\"Rw =\", Rw)\n",
    "\n",
    "LwRw = np.multiply(Lw, Rw)\n",
    "\n",
    "print(\"Lw * Rw =\", LwRw)\n",
    "\n",
    "print(\"Ow =     \", Ow)\n",
    "\n",
    "assert np.all(LwRw == Ow)"
   ]
  },
  {
   "cell_type": "code",
   "execution_count": null,
   "metadata": {},
   "outputs": [],
   "source": [
    "def evaluate_poly_list(poly_list, x):\n",
    "    results = []\n",
    "    for poly in poly_list:\n",
    "        results.append(poly(x))\n",
    "    return results\n",
    "\n",
    "def print_evaluation(name, results):\n",
    "    print(f'\\n{name} polynomial evaluations:')\n",
    "    for i in range(0, len(results)):\n",
    "        print(f'{name}_{i} = {results[i]}')\n",
    "\n",
    "def to_poly(mtx):\n",
    "    poly_list = []\n",
    "    for i in range(0, mtx.shape[0]):\n",
    "        poly_list.append( galois.Poly(mtx[i][::-1]) )\n",
    "    return poly_list\n",
    "\n",
    "def print_poly(name, poly_list):\n",
    "    print(f'\\n{name} polynomials:')\n",
    "    for i in range(0, len(poly_list)):\n",
    "        print(f'{name}_{i} = {poly_list[i]}')"
   ]
  },
  {
   "cell_type": "code",
   "execution_count": 2,
   "metadata": {},
   "outputs": [
    {
     "name": "stdout",
     "output_type": "stream",
     "text": [
      "Lp\n",
      "[[ 0  0  0  0  0]\n",
      " [ 0  0  0  0  0]\n",
      " [ 5 35  0 29  3]\n",
      " [61  6  2 14 59]\n",
      " [10 16 30 68 18]\n",
      " [67 14 39 31 62]\n",
      " [ 0  0  0  0  0]\n",
      " [ 0  0  0  0  0]]\n",
      "\n",
      "Rp\n",
      "[[ 0  0  0  0  0]\n",
      " [ 0  0  0  0  0]\n",
      " [68 11 24 50 61]\n",
      " [61  6  2 14 59]\n",
      " [51 17 20 31 23]\n",
      " [ 0  0  0  0  0]\n",
      " [ 0  0  0  0  0]\n",
      " [ 0  0  0  0  0]]\n",
      "\n",
      "Op\n",
      "[[ 0  0  0  0  0]\n",
      " [ 1 63 34 41  3]\n",
      " [ 0  0  0  0  0]\n",
      " [10 62 56 55 30]\n",
      " [ 4 43 37 59  0]\n",
      " [61  6  2 14 59]\n",
      " [ 9 24 67 27 15]\n",
      " [67 14 39 31 62]]\n",
      "\n"
     ]
    }
   ],
   "source": [
    "mtxs = [L, R, O]\n",
    "poly_m = []\n",
    "\n",
    "for m in mtxs:\n",
    "    poly_list = []\n",
    "    for i in range(0, m.shape[1]):\n",
    "        points_x = FP(np.zeros(m.shape[0], dtype=int))\n",
    "        points_y = FP(np.zeros(m.shape[0], dtype=int))\n",
    "        for j in range(0, m.shape[0]):\n",
    "            points_x[j] = FP(j+1)\n",
    "            points_y[j] = m[j][i]\n",
    "\n",
    "        poly = galois.lagrange_poly(points_x, points_y)\n",
    "        coef = poly.coefficients()[::-1]\n",
    "        if len(coef) < m.shape[0]:\n",
    "            coef = np.append(coef, np.zeros(m.shape[0] - len(coef), dtype=int))\n",
    "        poly_list.append(coef)\n",
    "    \n",
    "    poly_m.append(FP(poly_list))\n",
    "\n",
    "Lp = poly_m[0]\n",
    "Rp = poly_m[1]\n",
    "Op = poly_m[2]\n",
    "\n",
    "print(f'''Lp\n",
    "{Lp}\n",
    "''')\n",
    "\n",
    "print(f'''Rp\n",
    "{Rp}\n",
    "''')\n",
    "\n",
    "print(f'''Op\n",
    "{Op}\n",
    "''')"
   ]
  },
  {
   "cell_type": "code",
   "execution_count": 3,
   "metadata": {},
   "outputs": [
    {
     "name": "stdout",
     "output_type": "stream",
     "text": [
      "U =  32x^4 + 12x^3 + 51x^2 + 65x + 55\n",
      "V =  36x^4 + 53x^3 + 63x^2 + 37x + 26\n",
      "W =  24x^4 + 40x^3 + 25x^2 + 57\n"
     ]
    }
   ],
   "source": [
    "U = galois.Poly((w @ Lp)[::-1])\n",
    "V = galois.Poly((w @ Rp)[::-1])\n",
    "W = galois.Poly((w @ Op)[::-1])\n",
    "\n",
    "print(\"U = \", U)\n",
    "print(\"V = \", V)\n",
    "print(\"W = \", W)"
   ]
  },
  {
   "cell_type": "code",
   "execution_count": 4,
   "metadata": {},
   "outputs": [],
   "source": [
    "T = galois.Poly([1, p-1], field=FP)\n",
    "for i in range(2, L.shape[0] + 1):\n",
    "    T *= galois.Poly([1, p-i], field=FP)"
   ]
  },
  {
   "cell_type": "markdown",
   "metadata": {},
   "source": [
    "# SETUP"
   ]
  },
  {
   "cell_type": "code",
   "execution_count": 5,
   "metadata": {},
   "outputs": [
    {
     "name": "stdout",
     "output_type": "stream",
     "text": [
      "Setup phase\n",
      "----------\n",
      "Toxic waste:\n",
      "τ = 20\n",
      "\n",
      "T(τ) = 68\n",
      "Trusted setup:\n",
      "----------\n",
      "[τ]G1 = [(1, 2), (18947110137775984544896515092961257947872750783784269176923414004072777296602, 12292085037693291586083644966434670280746730626861846747147579999202931064992), (15630250211619345980264659554171089045460684386745982646195304578474625146473, 13597371564520873079214108010918820572395693243527082948219837354327653001066), (10609540540875827932797320455850052859827897498153948414964160013685734487046, 4813993645475805825314378837641334666424083557311142113454529369033402933209), (16711416843522114883433203178480474873102412521895441414645328675899158417507, 8853086173564136849925865683598036960975837022999254197357454379453354604209)]\n",
      "[T(τ)]G1 = [(8387425215776935415463627011971628724627661219697159780852247626883884054341, 4926370050544530674325564905924101320801285406104080171983196085097719394544), (19033251874843656108471242320417533909414939332036131356573128480367742634479, 20792135454608030201903199625673964159744755218442260092768620403349374102584), (10415861484417082502655338383609494480414113902179649885744799961447382638712, 10196215078179488638353184030336251401353352596818396260819493263908881608606), (5138697240077803445514669414784254799933862402946278134326199877546184124353, 12587011617949543324467535889916856826666519601316494966427400843934921824601)]\n",
      "\n",
      "[τ]G2 = [((10857046999023057135944570762232829481370756359578518086990519993285655852781, 11559732032986387107991004021392285783925812861821192530917403151452391805634), (8495653923123431417604973247489272438418190587263600148770280649306958101930, 4082367875863433681332203403145435568316851327593401208105741076214120093531)), ((6584456886510528562221720296624431746328412524156386210384049614268366928061, 13505823173380835868587575884635704883599421098297400455389802021584825778173), (5101591763860554569577488373372350852473588323930260132008193335489992486594, 17537837094362477976396927178636162167615173290927363003743794104386247847571)), ((20501356746169456569880524656444955310231738270221833401015153759736055559472, 17805625085787468682872833450041117594827747373612625997749163944825993920846), (21800332481093767987136441750551389644723555696423101899808424175997747099776, 15392832983847858489800010546201821852082126202610666443139539872219715317669)), ((8491602147423900540545369888919715951815432453288379611050163107665997093770, 9161833947361390455359864686368552674308200579608418613751415564796697494543), (11051711857613773823003152601651130917894272386949550809221860763835639354458, 499270719753149548173433078598026886381095560247491582190415338985567018107)), ((21740656624264531918905957436349160317178065932174634873434489096384118284193, 2019050928575347605638490762886992026922085924959710776569383806797571971069), (768940004759184688611731872359665907813921273999645987556749132562407031847, 9386111668168143378799867099066976687163019156923561176364278935596535020065))]\n"
     ]
    }
   ],
   "source": [
    "print(\"Setup phase\")\n",
    "print(\"-\"*10)\n",
    "print(\"Toxic waste:\")\n",
    "tau = FP(20)\n",
    "\n",
    "print(f\"τ = {tau}\")\n",
    "\n",
    "T_tau = T(tau)\n",
    "print(f\"\\nT(τ) = {T_tau}\")\n",
    "\n",
    "# ...\n",
    "from py_ecc.optimized_bn128 import multiply, G1, G2, add, pairing, neg, normalize\n",
    "\n",
    "# G1[τ^0], G1[τ^1], ..., G1[τ^d]\n",
    "tau_G1 = [multiply(G1, int(tau**i)) for i in range(0, T.degree)]\n",
    "# G1[τ^0 * T(τ)], G1[τ^1 * T(τ)], ..., G1[τ^d-1 * T(τ)]\n",
    "target_G1 = [multiply(G1, int(tau**i * T_tau)) for i in range(0, T.degree - 1)]\n",
    "\n",
    "# G2[τ^0], G2[τ^1], ..., G2[τ^d]\n",
    "tau_G2 = [multiply(G2, int(tau**i)) for i in range(0, T.degree)]\n",
    "\n",
    "print(\"Trusted setup:\")\n",
    "print(\"-\"*10)\n",
    "print(f\"[τ]G1 = {[normalize(point) for point in tau_G1]}\")\n",
    "print(f\"[T(τ)]G1 = {[normalize(point) for point in target_G1]}\")\n",
    "\n",
    "print(f\"\\n[τ]G2 = {[normalize(point) for point in tau_G2]}\")"
   ]
  },
  {
   "cell_type": "markdown",
   "metadata": {},
   "source": [
    "# PROVER"
   ]
  },
  {
   "cell_type": "code",
   "execution_count": 7,
   "metadata": {},
   "outputs": [],
   "source": [
    "H = (U * V - W) // T"
   ]
  },
  {
   "cell_type": "code",
   "execution_count": 8,
   "metadata": {},
   "outputs": [
    {
     "name": "stdout",
     "output_type": "stream",
     "text": [
      "\n",
      "Proof generation:\n",
      "----------\n",
      "[A]G1 = (7017025200078758986405774325560333190346992234649822631849778427774327985956, 5958546404623823338460408764445293216853207166124345976361550204035544473939)\n",
      "[B]G2 = ((6025717277188619969774194218275019843478408012016003314468349889098740594070, 10636153660501346958458350109359645700707230832728821207243598043977984638327), (17558649791399501547859830165664567074769931867535519047872130615461993564266, 12877549220549518351367099638512551281844727802331459509720946353383306135709))\n",
      "[C]G1 = (11131247908022881740571036530800568246102207356973368433630315726932674783054, 7206534061952323513685186539091641199172073138897185427341586707581061450103)\n"
     ]
    }
   ],
   "source": [
    "def evaluate_poly(poly, trusted_points, verbose=False):\n",
    "    coeff = poly.coefficients()[::-1]\n",
    "\n",
    "    assert len(coeff) == len(trusted_points), \"Polynomial degree mismatch!\"\n",
    "\n",
    "    if verbose:\n",
    "        [print(normalize(point)) for point in trusted_points]\n",
    "\n",
    "    terms = [multiply(point, int(coeff)) for point, coeff in zip(trusted_points, coeff)]\n",
    "    evaluation = terms[0]\n",
    "    for i in range(1, len(terms)):\n",
    "        evaluation = add(evaluation, terms[i])\n",
    "\n",
    "    if verbose:\n",
    "        print(\"-\"*10)\n",
    "        print(normalize(evaluation))\n",
    "    return evaluation\n",
    "\n",
    "print(\"\\nProof generation:\")\n",
    "print(\"-\"*10)\n",
    "# G1[u0 * τ^0] + G1[u1 * τ^1] + ... + G1[ud-1 * τ^d-1]\n",
    "A_G1 = evaluate_poly(U, tau_G1)\n",
    "# G2[v0 * τ^0] + G2[v1 * τ^1] + ... + G2[vd-1 * τ^d-1]\n",
    "B_G2 = evaluate_poly(V, tau_G2)\n",
    "# G1[w0 * τ^0] + G1[w1 * τ^1] + ... + G1[wd-1 * τ^d-1]\n",
    "B_G1 = evaluate_poly(V, tau_G1)\n",
    "# G1[w0 * τ^0] + G1[w1 * τ^1] + ... + G1[wd-1 * τ^d-1]\n",
    "Cw_G1 = evaluate_poly(W, tau_G1)\n",
    "# G1[h0 * τ^0 * T(τ)] + G1[h1 * τ^1 * T(τ)] + ... + G1[hd-2 * τ^d-2 * T(τ)]\n",
    "HT_G1 = evaluate_poly(H, target_G1)\n",
    "\n",
    "C_G1 = add(Cw_G1, HT_G1)\n",
    "\n",
    "print(f\"[A]G1 = {normalize(A_G1)}\")\n",
    "print(f\"[B]G2 = {normalize(B_G2)}\")\n",
    "print(f\"[C]G1 = {normalize(C_G1)}\")"
   ]
  },
  {
   "cell_type": "markdown",
   "metadata": {},
   "source": [
    "# VERIFIER"
   ]
  },
  {
   "cell_type": "code",
   "execution_count": 9,
   "metadata": {},
   "outputs": [
    {
     "name": "stdout",
     "output_type": "stream",
     "text": [
      "\n",
      "Proof verification:\n",
      "----------\n"
     ]
    },
    {
     "ename": "AssertionError",
     "evalue": "Pairing check failed!",
     "output_type": "error",
     "traceback": [
      "\u001b[1;31m---------------------------------------------------------------------------\u001b[0m",
      "\u001b[1;31mAssertionError\u001b[0m                            Traceback (most recent call last)",
      "\u001b[1;32mc:\\Users\\bapti\\Desktop\\ZKP-research\\groth16\\main.ipynb Cell 11\u001b[0m line \u001b[0;36m4\n\u001b[0;32m      <a href='vscode-notebook-cell:/c%3A/Users/bapti/Desktop/ZKP-research/groth16/main.ipynb#X13sZmlsZQ%3D%3D?line=1'>2</a>\u001b[0m \u001b[39mprint\u001b[39m(\u001b[39m\"\u001b[39m\u001b[39m-\u001b[39m\u001b[39m\"\u001b[39m\u001b[39m*\u001b[39m\u001b[39m10\u001b[39m)\n\u001b[0;32m      <a href='vscode-notebook-cell:/c%3A/Users/bapti/Desktop/ZKP-research/groth16/main.ipynb#X13sZmlsZQ%3D%3D?line=2'>3</a>\u001b[0m \u001b[39m# e(A, B) == e(C, G2[1])\u001b[39;00m\n\u001b[1;32m----> <a href='vscode-notebook-cell:/c%3A/Users/bapti/Desktop/ZKP-research/groth16/main.ipynb#X13sZmlsZQ%3D%3D?line=3'>4</a>\u001b[0m \u001b[39massert\u001b[39;00m pairing(B_G2, A_G1) \u001b[39m==\u001b[39m pairing(G2, C_G1), \u001b[39m\"\u001b[39m\u001b[39mPairing check failed!\u001b[39m\u001b[39m\"\u001b[39m\n\u001b[0;32m      <a href='vscode-notebook-cell:/c%3A/Users/bapti/Desktop/ZKP-research/groth16/main.ipynb#X13sZmlsZQ%3D%3D?line=4'>5</a>\u001b[0m \u001b[39mprint\u001b[39m(\u001b[39m\"\u001b[39m\u001b[39mPairing check passed!\u001b[39m\u001b[39m\"\u001b[39m)\n",
      "\u001b[1;31mAssertionError\u001b[0m: Pairing check failed!"
     ]
    }
   ],
   "source": [
    "print(\"\\nProof verification:\")\n",
    "print(\"-\"*10)\n",
    "# e(A, B) == e(C, G2[1])\n",
    "assert pairing(B_G2, A_G1) == pairing(G2, C_G1), \"Pairing check failed!\"\n",
    "print(\"Pairing check passed!\")"
   ]
  },
  {
   "cell_type": "code",
   "execution_count": null,
   "metadata": {},
   "outputs": [],
   "source": []
  }
 ],
 "metadata": {
  "kernelspec": {
   "display_name": "Python 3",
   "language": "python",
   "name": "python3"
  },
  "language_info": {
   "codemirror_mode": {
    "name": "ipython",
    "version": 3
   },
   "file_extension": ".py",
   "mimetype": "text/x-python",
   "name": "python",
   "nbconvert_exporter": "python",
   "pygments_lexer": "ipython3",
   "version": "3.10.6"
  }
 },
 "nbformat": 4,
 "nbformat_minor": 2
}
